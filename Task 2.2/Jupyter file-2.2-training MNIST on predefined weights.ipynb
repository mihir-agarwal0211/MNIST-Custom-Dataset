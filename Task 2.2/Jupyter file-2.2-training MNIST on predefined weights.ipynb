{
 "cells": [
  {
   "cell_type": "markdown",
   "metadata": {},
   "source": [
    "### Importing requred librabries\n",
    "these are useful as they are needed to run all the fuctions in our notebook"
   ]
  },
  {
   "cell_type": "code",
   "execution_count": 1,
   "metadata": {
    "id": "4h0SmD_Vy4jd"
   },
   "outputs": [],
   "source": [
    "from tensorflow.keras.preprocessing.image import ImageDataGenerator\n",
    "from tensorflow.keras.preprocessing import image\n",
    "from tensorflow.keras.optimizers import RMSprop\n",
    "from tensorflow.keras.layers import Conv2D, Flatten, Dense, Dropout, Input\n",
    "from tensorflow.keras.models import Model\n",
    "import tensorflow as tf\n",
    "import matplotlib.pyplot as plt \n",
    "from skimage import io\n",
    "from tqdm import tqdm\n",
    "import numpy as np \n",
    "import os \n",
    "import shutil\n",
    "import random\n",
    "import pandas as pd\n",
    "import cv2 as cv\n",
    "# from PIL import Image\n"
   ]
  },
  {
   "cell_type": "markdown",
   "metadata": {
    "id": "6VyhNE6-0h6a"
   },
   "source": [
    "## **Generating xtrain and ytrain**\n",
    "Here we are generating xtrain, for that we have to go through the following steps -\n",
    "\n",
    "1)locate to the train folder\n",
    "\n",
    "2)convert the images to grayscale, we ae converting to grayscale as other colors aren't present in our dataset, black and white are the colors available\n",
    "\n",
    "3)resize the image to 28,28. We are doing this as the standard MNIST dataset is also in 28,28. also cause 28x28 pixels are enough to train ou model\n",
    "\n",
    "4)appending the image pixels value and label in an array to finally get our xtrain"
   ]
  },
  {
   "cell_type": "code",
   "execution_count": 90,
   "metadata": {},
   "outputs": [
    {
     "name": "stdout",
     "output_type": "stream",
     "text": [
      "0\n",
      "1\n",
      "2\n",
      "3\n",
      "4\n",
      "5\n",
      "6\n",
      "7\n",
      "8\n",
      "9\n",
      "10\n",
      "11\n",
      "12\n",
      "13\n",
      "14\n",
      "15\n",
      "16\n",
      "17\n",
      "18\n",
      "19\n",
      "20\n",
      "21\n",
      "22\n",
      "23\n",
      "24\n",
      "25\n",
      "26\n",
      "27\n",
      "28\n",
      "29\n",
      "30\n",
      "31\n",
      "32\n",
      "33\n",
      "34\n",
      "35\n",
      "36\n",
      "37\n",
      "38\n",
      "39\n",
      "40\n",
      "41\n",
      "42\n",
      "43\n",
      "44\n",
      "45\n",
      "46\n",
      "47\n",
      "48\n",
      "49\n",
      "50\n",
      "51\n",
      "52\n",
      "53\n",
      "54\n",
      "55\n",
      "56\n",
      "57\n",
      "58\n",
      "59\n",
      "60\n",
      "61\n",
      "62\n",
      "63\n",
      "64\n",
      "65\n",
      "66\n",
      "67\n",
      "68\n",
      "69\n",
      "70\n",
      "71\n",
      "72\n",
      "73\n",
      "74\n",
      "75\n",
      "76\n",
      "77\n",
      "78\n",
      "79\n",
      "80\n",
      "81\n",
      "82\n",
      "83\n",
      "84\n",
      "85\n",
      "86\n",
      "87\n",
      "88\n",
      "89\n",
      "90\n",
      "91\n",
      "92\n",
      "93\n",
      "94\n",
      "95\n",
      "96\n",
      "97\n",
      "98\n",
      "99\n",
      "100\n",
      "101\n",
      "102\n",
      "103\n",
      "104\n",
      "105\n",
      "106\n",
      "107\n",
      "108\n",
      "109\n",
      "110\n",
      "111\n",
      "112\n",
      "113\n",
      "114\n",
      "115\n",
      "116\n",
      "117\n",
      "118\n",
      "119\n",
      "120\n",
      "121\n",
      "122\n",
      "123\n",
      "124\n",
      "125\n",
      "126\n",
      "127\n",
      "128\n",
      "129\n",
      "130\n",
      "131\n",
      "132\n",
      "133\n",
      "134\n",
      "135\n",
      "136\n",
      "137\n",
      "138\n",
      "139\n",
      "140\n",
      "141\n",
      "142\n",
      "143\n",
      "144\n",
      "145\n",
      "146\n",
      "147\n",
      "148\n",
      "149\n",
      "150\n",
      "151\n",
      "152\n",
      "153\n",
      "154\n",
      "155\n",
      "156\n",
      "157\n",
      "158\n",
      "159\n",
      "160\n",
      "161\n",
      "162\n",
      "163\n",
      "164\n",
      "165\n",
      "166\n",
      "167\n",
      "168\n",
      "169\n",
      "170\n",
      "171\n",
      "172\n",
      "173\n",
      "174\n",
      "175\n",
      "176\n",
      "177\n",
      "178\n",
      "179\n",
      "180\n",
      "181\n",
      "182\n",
      "183\n",
      "184\n",
      "185\n",
      "186\n",
      "187\n",
      "188\n",
      "189\n",
      "190\n",
      "191\n",
      "192\n",
      "193\n",
      "194\n",
      "195\n",
      "196\n",
      "197\n",
      "198\n",
      "199\n",
      "200\n",
      "201\n",
      "202\n",
      "203\n",
      "204\n",
      "205\n",
      "206\n",
      "207\n",
      "208\n",
      "209\n",
      "210\n",
      "211\n",
      "212\n",
      "213\n",
      "214\n",
      "215\n",
      "216\n",
      "217\n",
      "218\n",
      "219\n",
      "220\n",
      "221\n",
      "222\n",
      "223\n",
      "224\n",
      "225\n",
      "226\n",
      "227\n",
      "228\n",
      "229\n",
      "230\n",
      "231\n",
      "232\n",
      "233\n",
      "234\n",
      "235\n",
      "236\n",
      "237\n",
      "238\n",
      "239\n",
      "240\n",
      "241\n",
      "242\n",
      "243\n",
      "244\n",
      "245\n",
      "246\n",
      "247\n",
      "248\n",
      "249\n",
      "250\n",
      "251\n",
      "252\n",
      "253\n",
      "254\n",
      "255\n",
      "256\n",
      "257\n",
      "258\n",
      "259\n",
      "260\n",
      "261\n",
      "262\n",
      "263\n",
      "264\n",
      "265\n",
      "266\n",
      "267\n",
      "268\n",
      "269\n",
      "270\n",
      "271\n",
      "272\n",
      "273\n",
      "274\n",
      "275\n",
      "276\n",
      "277\n",
      "278\n",
      "279\n",
      "280\n",
      "281\n",
      "282\n",
      "283\n",
      "284\n",
      "285\n",
      "286\n",
      "287\n",
      "288\n",
      "289\n",
      "290\n",
      "291\n",
      "292\n",
      "293\n",
      "294\n",
      "295\n",
      "296\n",
      "297\n",
      "298\n",
      "299\n",
      "300\n",
      "301\n",
      "302\n",
      "303\n",
      "304\n",
      "305\n",
      "306\n",
      "307\n",
      "308\n",
      "309\n",
      "310\n",
      "311\n",
      "312\n",
      "313\n",
      "314\n",
      "315\n",
      "316\n",
      "317\n",
      "318\n",
      "319\n",
      "320\n",
      "321\n",
      "322\n",
      "323\n",
      "324\n",
      "325\n",
      "326\n",
      "327\n",
      "328\n",
      "329\n",
      "330\n",
      "331\n",
      "332\n",
      "333\n",
      "334\n",
      "335\n",
      "336\n",
      "337\n",
      "338\n",
      "339\n"
     ]
    }
   ],
   "source": [
    "train_dir = os.listdir(r'E:\\Internship\\IIITD MIDAS\\Task 2.2\\Dataset\\train')\n",
    "root_dir = r'E:\\Internship\\IIITD MIDAS\\Task 2.2\\Dataset'\n",
    "\n",
    "X = []\n",
    "f=0\n",
    "for cls in train_dir:\n",
    "  src = root_dir+ '\\\\train\\\\' + cls\n",
    "  allFileNames = os.listdir(src)\n",
    "  a = cls\n",
    "  a = a[-2:]\n",
    "  p = int(a)\n",
    "  p\n",
    "  # print(cls)\n",
    "  # # print(src + '/'+ allFileNames)\n",
    "  \n",
    "  for img in allFileNames:\n",
    "    # ytrain.append(p)\n",
    "    IMG_LOC=src+'\\\\'+img\n",
    "    # image = io.imread(IMG_LOC)\n",
    "    image=cv.imread(IMG_LOC, cv.IMREAD_GRAYSCALE)\n",
    "    image=cv.resize(image,(28,28))\n",
    "    print(f)\n",
    "    f=f+1\n",
    "    # testing_data.append([np.array(img),img_num])\n",
    "    X.append([np.array(image),np.array(p)])\n",
    "  # print(X)\n",
    "  # print(ytrain)\n",
    "    # print(image)"
   ]
  },
  {
   "cell_type": "markdown",
   "metadata": {},
   "source": [
    "### Reshaping the array X and dividing it in Xtrain and Ytrain. We need xtrain and y train to train our model"
   ]
  },
  {
   "cell_type": "code",
   "execution_count": 91,
   "metadata": {
    "id": "GY8sXgky39Wn"
   },
   "outputs": [],
   "source": [
    "x_train = np.array([i[0] for i in X]).reshape(-1,28,28,1)\n",
    "y_train = np.array([i[1] for i in X])"
   ]
  },
  {
   "cell_type": "markdown",
   "metadata": {},
   "source": [
    "### Printing the shape of Xtrain and Ytrain, to verify if its same as what we need in our model"
   ]
  },
  {
   "cell_type": "code",
   "execution_count": 92,
   "metadata": {
    "colab": {
     "base_uri": "https://localhost:8080/"
    },
    "id": "2dH_UzMM4BRC",
    "outputId": "a26ea45c-ddfe-4dab-9d3d-c544a8f0350a"
   },
   "outputs": [
    {
     "name": "stdout",
     "output_type": "stream",
     "text": [
      "(340, 28, 28, 1)\n",
      "(340,)\n"
     ]
    }
   ],
   "source": [
    "print(x_train.shape)\n",
    "print(y_train.shape)\n"
   ]
  },
  {
   "cell_type": "markdown",
   "metadata": {
    "id": "zWKwMO19_M7Y"
   },
   "source": [
    "## Generating Xtest and Ytest\n",
    "#### Following the same steps as we did for xtrain and ytrain"
   ]
  },
  {
   "cell_type": "code",
   "execution_count": 93,
   "metadata": {
    "colab": {
     "base_uri": "https://localhost:8080/"
    },
    "id": "3elBUNVj3xuh",
    "outputId": "2ffc3dda-666f-49ee-803d-968efdcc24ec"
   },
   "outputs": [
    {
     "name": "stdout",
     "output_type": "stream",
     "text": [
      "0\n",
      "1\n",
      "2\n",
      "3\n",
      "4\n",
      "5\n",
      "6\n",
      "7\n",
      "8\n",
      "9\n",
      "10\n",
      "11\n",
      "12\n",
      "13\n",
      "14\n",
      "15\n",
      "16\n",
      "17\n",
      "18\n",
      "19\n",
      "20\n",
      "21\n",
      "22\n",
      "23\n",
      "24\n",
      "25\n",
      "26\n",
      "27\n",
      "28\n",
      "29\n",
      "30\n",
      "31\n",
      "32\n",
      "33\n",
      "34\n",
      "35\n",
      "36\n",
      "37\n",
      "38\n",
      "39\n",
      "40\n",
      "41\n",
      "42\n",
      "43\n",
      "44\n",
      "45\n",
      "46\n",
      "47\n",
      "48\n",
      "49\n",
      "50\n",
      "51\n",
      "52\n",
      "53\n",
      "54\n",
      "55\n",
      "56\n",
      "57\n",
      "58\n",
      "59\n"
     ]
    }
   ],
   "source": [
    "train_dir = os.listdir(r'E:\\Internship\\IIITD MIDAS\\Task 2.2\\Dataset\\test')\n",
    "# img=cv.imread(\"/content/drive/MyDrive/IIITD/data/Sample027/img027-004.png\", cv.IMREAD_GRAYSCALE)\n",
    "root_dir = r'E:\\Internship\\IIITD MIDAS\\Task 2.2\\Dataset'\n",
    "# os.makedirs(root_dir + '/train')\n",
    "\n",
    "y = []\n",
    "# ytrain = []\n",
    "f=0\n",
    "for cls in train_dir:\n",
    "    src = root_dir+ '\\\\test\\\\' + cls\n",
    "    allFileNames = os.listdir(src)\n",
    "    a = cls\n",
    "    a = a[-2:]\n",
    "    p = int(a)\n",
    "    p\n",
    "#     print(cls)\n",
    "    # # print(src + '/'+ allFileNames)\n",
    "    for img in allFileNames:\n",
    "        # ytrain.append(p)\n",
    "        IMG_LOC=src+'\\\\'+img\n",
    "        # image = io.imread(IMG_LOC)\n",
    "        image=cv.imread(IMG_LOC, cv.IMREAD_GRAYSCALE)\n",
    "        image=cv.resize(image,(28,28))\n",
    "        # testing_data.append([np.array(img),img_num])\n",
    "        y.append([np.array(image),np.array(p)])\n",
    "        print(f)\n",
    "        f=f+1\n",
    "# print(y)\n",
    "  # print(ytrain)\n",
    "    # print(image)"
   ]
  },
  {
   "cell_type": "code",
   "execution_count": 94,
   "metadata": {
    "id": "snsF7H5834Zq"
   },
   "outputs": [],
   "source": [
    "x_test = np.array([i[0] for i in y]).reshape(-1,28,28,1)\n",
    "y_test = np.array([i[1] for i in y])"
   ]
  },
  {
   "cell_type": "code",
   "execution_count": 95,
   "metadata": {
    "colab": {
     "base_uri": "https://localhost:8080/"
    },
    "id": "4R1_M4G6FFbd",
    "outputId": "42dbf2ad-1136-47dc-c8fc-fe1d1ea7e8c6"
   },
   "outputs": [
    {
     "name": "stdout",
     "output_type": "stream",
     "text": [
      "(60, 28, 28, 1)\n",
      "(60,)\n",
      "(340, 28, 28, 1)\n",
      "(340,)\n"
     ]
    }
   ],
   "source": [
    "print(x_test.shape)\n",
    "print(y_test.shape)\n",
    "print(x_train.shape)\n",
    "print(y_train.shape)\n"
   ]
  },
  {
   "cell_type": "markdown",
   "metadata": {},
   "source": [
    "## Data Normalization\n",
    "As the CNN algorithm converge faster on the [0..1] data than on [0..255]"
   ]
  },
  {
   "cell_type": "code",
   "execution_count": 96,
   "metadata": {
    "colab": {
     "base_uri": "https://localhost:8080/",
     "height": 161
    },
    "id": "5T4g30qRXrVe",
    "outputId": "dc48f94f-e505-4e4e-87e0-dd290890063d"
   },
   "outputs": [],
   "source": [
    "x_train, x_test=x_train/255.0, x_test/255.0\n",
    "y_train, y_test=y_train.flatten(), y_test.flatten()"
   ]
  },
  {
   "cell_type": "code",
   "execution_count": 97,
   "metadata": {},
   "outputs": [
    {
     "data": {
      "text/plain": [
       "array([ 1,  1,  1,  1,  1,  1,  1,  1,  1,  1,  1,  1,  1,  1,  1,  1,  1,\n",
       "        1,  1,  1,  1,  1,  1,  1,  1,  1,  1,  1,  1,  1,  1,  1,  1,  1,\n",
       "        2,  2,  2,  2,  2,  2,  2,  2,  2,  2,  2,  2,  2,  2,  2,  2,  2,\n",
       "        2,  2,  2,  2,  2,  2,  2,  2,  2,  2,  2,  2,  2,  2,  2,  2,  2,\n",
       "        3,  3,  3,  3,  3,  3,  3,  3,  3,  3,  3,  3,  3,  3,  3,  3,  3,\n",
       "        3,  3,  3,  3,  3,  3,  3,  3,  3,  3,  3,  3,  3,  3,  3,  3,  3,\n",
       "        4,  4,  4,  4,  4,  4,  4,  4,  4,  4,  4,  4,  4,  4,  4,  4,  4,\n",
       "        4,  4,  4,  4,  4,  4,  4,  4,  4,  4,  4,  4,  4,  4,  4,  4,  4,\n",
       "        5,  5,  5,  5,  5,  5,  5,  5,  5,  5,  5,  5,  5,  5,  5,  5,  5,\n",
       "        5,  5,  5,  5,  5,  5,  5,  5,  5,  5,  5,  5,  5,  5,  5,  5,  5,\n",
       "        6,  6,  6,  6,  6,  6,  6,  6,  6,  6,  6,  6,  6,  6,  6,  6,  6,\n",
       "        6,  6,  6,  6,  6,  6,  6,  6,  6,  6,  6,  6,  6,  6,  6,  6,  6,\n",
       "        7,  7,  7,  7,  7,  7,  7,  7,  7,  7,  7,  7,  7,  7,  7,  7,  7,\n",
       "        7,  7,  7,  7,  7,  7,  7,  7,  7,  7,  7,  7,  7,  7,  7,  7,  7,\n",
       "        8,  8,  8,  8,  8,  8,  8,  8,  8,  8,  8,  8,  8,  8,  8,  8,  8,\n",
       "        8,  8,  8,  8,  8,  8,  8,  8,  8,  8,  8,  8,  8,  8,  8,  8,  8,\n",
       "        9,  9,  9,  9,  9,  9,  9,  9,  9,  9,  9,  9,  9,  9,  9,  9,  9,\n",
       "        9,  9,  9,  9,  9,  9,  9,  9,  9,  9,  9,  9,  9,  9,  9,  9,  9,\n",
       "       10, 10, 10, 10, 10, 10, 10, 10, 10, 10, 10, 10, 10, 10, 10, 10, 10,\n",
       "       10, 10, 10, 10, 10, 10, 10, 10, 10, 10, 10, 10, 10, 10, 10, 10, 10])"
      ]
     },
     "execution_count": 97,
     "metadata": {},
     "output_type": "execute_result"
    }
   ],
   "source": [
    "y_train"
   ]
  },
  {
   "cell_type": "markdown",
   "metadata": {},
   "source": [
    "## Label encoding\n",
    "We need to give the y test and train in one hot encoded form\n",
    "\n",
    "used this article for Label encoding - https://www.geeksforgeeks.org/ml-label-encoding-of-datasets-in-python/\n",
    "\n",
    "it basically converts all the labels from 0 to the end. so that it becomes easier in one hot encoding."
   ]
  },
  {
   "cell_type": "code",
   "execution_count": 98,
   "metadata": {},
   "outputs": [
    {
     "data": {
      "text/plain": [
       "array([0, 0, 0, 0, 0, 0, 0, 0, 0, 0, 0, 0, 0, 0, 0, 0, 0, 0, 0, 0, 0, 0,\n",
       "       0, 0, 0, 0, 0, 0, 0, 0, 0, 0, 0, 0, 1, 1, 1, 1, 1, 1, 1, 1, 1, 1,\n",
       "       1, 1, 1, 1, 1, 1, 1, 1, 1, 1, 1, 1, 1, 1, 1, 1, 1, 1, 1, 1, 1, 1,\n",
       "       1, 1, 2, 2, 2, 2, 2, 2, 2, 2, 2, 2, 2, 2, 2, 2, 2, 2, 2, 2, 2, 2,\n",
       "       2, 2, 2, 2, 2, 2, 2, 2, 2, 2, 2, 2, 2, 2, 3, 3, 3, 3, 3, 3, 3, 3,\n",
       "       3, 3, 3, 3, 3, 3, 3, 3, 3, 3, 3, 3, 3, 3, 3, 3, 3, 3, 3, 3, 3, 3,\n",
       "       3, 3, 3, 3, 4, 4, 4, 4, 4, 4, 4, 4, 4, 4, 4, 4, 4, 4, 4, 4, 4, 4,\n",
       "       4, 4, 4, 4, 4, 4, 4, 4, 4, 4, 4, 4, 4, 4, 4, 4, 5, 5, 5, 5, 5, 5,\n",
       "       5, 5, 5, 5, 5, 5, 5, 5, 5, 5, 5, 5, 5, 5, 5, 5, 5, 5, 5, 5, 5, 5,\n",
       "       5, 5, 5, 5, 5, 5, 6, 6, 6, 6, 6, 6, 6, 6, 6, 6, 6, 6, 6, 6, 6, 6,\n",
       "       6, 6, 6, 6, 6, 6, 6, 6, 6, 6, 6, 6, 6, 6, 6, 6, 6, 6, 7, 7, 7, 7,\n",
       "       7, 7, 7, 7, 7, 7, 7, 7, 7, 7, 7, 7, 7, 7, 7, 7, 7, 7, 7, 7, 7, 7,\n",
       "       7, 7, 7, 7, 7, 7, 7, 7, 8, 8, 8, 8, 8, 8, 8, 8, 8, 8, 8, 8, 8, 8,\n",
       "       8, 8, 8, 8, 8, 8, 8, 8, 8, 8, 8, 8, 8, 8, 8, 8, 8, 8, 8, 8, 9, 9,\n",
       "       9, 9, 9, 9, 9, 9, 9, 9, 9, 9, 9, 9, 9, 9, 9, 9, 9, 9, 9, 9, 9, 9,\n",
       "       9, 9, 9, 9, 9, 9, 9, 9, 9, 9], dtype=int64)"
      ]
     },
     "execution_count": 98,
     "metadata": {},
     "output_type": "execute_result"
    }
   ],
   "source": [
    "\n",
    "# Import label encoder\n",
    "from sklearn import preprocessing\n",
    "  \n",
    "# label_encoder object knows how to understand word labels.\n",
    "label_encoder = preprocessing.LabelEncoder()\n",
    "  \n",
    "# Encode labels in column 'species'.\n",
    "y_train= label_encoder.fit_transform(y_train)\n",
    "y_train\n",
    "# y_train.unique()"
   ]
  },
  {
   "cell_type": "markdown",
   "metadata": {},
   "source": [
    "#### Used the to_categorical function to convert the data to one hot encoded form"
   ]
  },
  {
   "cell_type": "code",
   "execution_count": 99,
   "metadata": {},
   "outputs": [
    {
     "name": "stdout",
     "output_type": "stream",
     "text": [
      "[0 0 0 0 0 0 0 0 0 0 0 0 0 0 0 0 0 0 0 0 0 0 0 0 0 0 0 0 0 0 0 0 0 0 1 1 1\n",
      " 1 1 1 1 1 1 1 1 1 1 1 1 1 1 1 1 1 1 1 1 1 1 1 1 1 1 1 1 1 1 1 2 2 2 2 2 2\n",
      " 2 2 2 2 2 2 2 2 2 2 2 2 2 2 2 2 2 2 2 2 2 2 2 2 2 2 2 2 3 3 3 3 3 3 3 3 3\n",
      " 3 3 3 3 3 3 3 3 3 3 3 3 3 3 3 3 3 3 3 3 3 3 3 3 3 4 4 4 4 4 4 4 4 4 4 4 4\n",
      " 4 4 4 4 4 4 4 4 4 4 4 4 4 4 4 4 4 4 4 4 4 4 5 5 5 5 5 5 5 5 5 5 5 5 5 5 5\n",
      " 5 5 5 5 5 5 5 5 5 5 5 5 5 5 5 5 5 5 5 6 6 6 6 6 6 6 6 6 6 6 6 6 6 6 6 6 6\n",
      " 6 6 6 6 6 6 6 6 6 6 6 6 6 6 6 6 7 7 7 7 7 7 7 7 7 7 7 7 7 7 7 7 7 7 7 7 7\n",
      " 7 7 7 7 7 7 7 7 7 7 7 7 7 8 8 8 8 8 8 8 8 8 8 8 8 8 8 8 8 8 8 8 8 8 8 8 8\n",
      " 8 8 8 8 8 8 8 8 8 8 9 9 9 9 9 9 9 9 9 9 9 9 9 9 9 9 9 9 9 9 9 9 9 9 9 9 9\n",
      " 9 9 9 9 9 9 9]\n",
      "[[1. 0. 0. ... 0. 0. 0.]\n",
      " [1. 0. 0. ... 0. 0. 0.]\n",
      " [1. 0. 0. ... 0. 0. 0.]\n",
      " ...\n",
      " [0. 0. 0. ... 0. 0. 1.]\n",
      " [0. 0. 0. ... 0. 0. 1.]\n",
      " [0. 0. 0. ... 0. 0. 1.]]\n"
     ]
    }
   ],
   "source": [
    "from numpy import array\n",
    "from numpy import argmax\n",
    "from keras.utils import to_categorical\n",
    "# define example\n",
    "data = array(y_train)\n",
    "print(data)\n",
    "# one hot encode\n",
    "encoded = to_categorical(data)\n",
    "print(encoded)\n",
    "y_train = encoded"
   ]
  },
  {
   "cell_type": "markdown",
   "metadata": {},
   "source": [
    "#### Same for Y test"
   ]
  },
  {
   "cell_type": "code",
   "execution_count": 100,
   "metadata": {},
   "outputs": [],
   "source": [
    "label_encoder = preprocessing.LabelEncoder()\n",
    "y_test= label_encoder.fit_transform(y_test)\n",
    "  "
   ]
  },
  {
   "cell_type": "code",
   "execution_count": 101,
   "metadata": {},
   "outputs": [
    {
     "data": {
      "text/plain": [
       "array([0, 0, 0, 0, 0, 0, 1, 1, 1, 1, 1, 1, 2, 2, 2, 2, 2, 2, 3, 3, 3, 3,\n",
       "       3, 3, 4, 4, 4, 4, 4, 4, 5, 5, 5, 5, 5, 5, 6, 6, 6, 6, 6, 6, 7, 7,\n",
       "       7, 7, 7, 7, 8, 8, 8, 8, 8, 8, 9, 9, 9, 9, 9, 9], dtype=int64)"
      ]
     },
     "execution_count": 101,
     "metadata": {},
     "output_type": "execute_result"
    }
   ],
   "source": [
    "y_test"
   ]
  },
  {
   "cell_type": "code",
   "execution_count": 102,
   "metadata": {},
   "outputs": [
    {
     "name": "stdout",
     "output_type": "stream",
     "text": [
      "[0 0 0 0 0 0 1 1 1 1 1 1 2 2 2 2 2 2 3 3 3 3 3 3 4 4 4 4 4 4 5 5 5 5 5 5 6\n",
      " 6 6 6 6 6 7 7 7 7 7 7 8 8 8 8 8 8 9 9 9 9 9 9]\n",
      "[[1. 0. 0. 0. 0. 0. 0. 0. 0. 0.]\n",
      " [1. 0. 0. 0. 0. 0. 0. 0. 0. 0.]\n",
      " [1. 0. 0. 0. 0. 0. 0. 0. 0. 0.]\n",
      " [1. 0. 0. 0. 0. 0. 0. 0. 0. 0.]\n",
      " [1. 0. 0. 0. 0. 0. 0. 0. 0. 0.]\n",
      " [1. 0. 0. 0. 0. 0. 0. 0. 0. 0.]\n",
      " [0. 1. 0. 0. 0. 0. 0. 0. 0. 0.]\n",
      " [0. 1. 0. 0. 0. 0. 0. 0. 0. 0.]\n",
      " [0. 1. 0. 0. 0. 0. 0. 0. 0. 0.]\n",
      " [0. 1. 0. 0. 0. 0. 0. 0. 0. 0.]\n",
      " [0. 1. 0. 0. 0. 0. 0. 0. 0. 0.]\n",
      " [0. 1. 0. 0. 0. 0. 0. 0. 0. 0.]\n",
      " [0. 0. 1. 0. 0. 0. 0. 0. 0. 0.]\n",
      " [0. 0. 1. 0. 0. 0. 0. 0. 0. 0.]\n",
      " [0. 0. 1. 0. 0. 0. 0. 0. 0. 0.]\n",
      " [0. 0. 1. 0. 0. 0. 0. 0. 0. 0.]\n",
      " [0. 0. 1. 0. 0. 0. 0. 0. 0. 0.]\n",
      " [0. 0. 1. 0. 0. 0. 0. 0. 0. 0.]\n",
      " [0. 0. 0. 1. 0. 0. 0. 0. 0. 0.]\n",
      " [0. 0. 0. 1. 0. 0. 0. 0. 0. 0.]\n",
      " [0. 0. 0. 1. 0. 0. 0. 0. 0. 0.]\n",
      " [0. 0. 0. 1. 0. 0. 0. 0. 0. 0.]\n",
      " [0. 0. 0. 1. 0. 0. 0. 0. 0. 0.]\n",
      " [0. 0. 0. 1. 0. 0. 0. 0. 0. 0.]\n",
      " [0. 0. 0. 0. 1. 0. 0. 0. 0. 0.]\n",
      " [0. 0. 0. 0. 1. 0. 0. 0. 0. 0.]\n",
      " [0. 0. 0. 0. 1. 0. 0. 0. 0. 0.]\n",
      " [0. 0. 0. 0. 1. 0. 0. 0. 0. 0.]\n",
      " [0. 0. 0. 0. 1. 0. 0. 0. 0. 0.]\n",
      " [0. 0. 0. 0. 1. 0. 0. 0. 0. 0.]\n",
      " [0. 0. 0. 0. 0. 1. 0. 0. 0. 0.]\n",
      " [0. 0. 0. 0. 0. 1. 0. 0. 0. 0.]\n",
      " [0. 0. 0. 0. 0. 1. 0. 0. 0. 0.]\n",
      " [0. 0. 0. 0. 0. 1. 0. 0. 0. 0.]\n",
      " [0. 0. 0. 0. 0. 1. 0. 0. 0. 0.]\n",
      " [0. 0. 0. 0. 0. 1. 0. 0. 0. 0.]\n",
      " [0. 0. 0. 0. 0. 0. 1. 0. 0. 0.]\n",
      " [0. 0. 0. 0. 0. 0. 1. 0. 0. 0.]\n",
      " [0. 0. 0. 0. 0. 0. 1. 0. 0. 0.]\n",
      " [0. 0. 0. 0. 0. 0. 1. 0. 0. 0.]\n",
      " [0. 0. 0. 0. 0. 0. 1. 0. 0. 0.]\n",
      " [0. 0. 0. 0. 0. 0. 1. 0. 0. 0.]\n",
      " [0. 0. 0. 0. 0. 0. 0. 1. 0. 0.]\n",
      " [0. 0. 0. 0. 0. 0. 0. 1. 0. 0.]\n",
      " [0. 0. 0. 0. 0. 0. 0. 1. 0. 0.]\n",
      " [0. 0. 0. 0. 0. 0. 0. 1. 0. 0.]\n",
      " [0. 0. 0. 0. 0. 0. 0. 1. 0. 0.]\n",
      " [0. 0. 0. 0. 0. 0. 0. 1. 0. 0.]\n",
      " [0. 0. 0. 0. 0. 0. 0. 0. 1. 0.]\n",
      " [0. 0. 0. 0. 0. 0. 0. 0. 1. 0.]\n",
      " [0. 0. 0. 0. 0. 0. 0. 0. 1. 0.]\n",
      " [0. 0. 0. 0. 0. 0. 0. 0. 1. 0.]\n",
      " [0. 0. 0. 0. 0. 0. 0. 0. 1. 0.]\n",
      " [0. 0. 0. 0. 0. 0. 0. 0. 1. 0.]\n",
      " [0. 0. 0. 0. 0. 0. 0. 0. 0. 1.]\n",
      " [0. 0. 0. 0. 0. 0. 0. 0. 0. 1.]\n",
      " [0. 0. 0. 0. 0. 0. 0. 0. 0. 1.]\n",
      " [0. 0. 0. 0. 0. 0. 0. 0. 0. 1.]\n",
      " [0. 0. 0. 0. 0. 0. 0. 0. 0. 1.]\n",
      " [0. 0. 0. 0. 0. 0. 0. 0. 0. 1.]]\n"
     ]
    }
   ],
   "source": [
    "data = array(y_test)\n",
    "print(data)\n",
    "# one hot encode\n",
    "encoded = to_categorical(data)\n",
    "print(encoded)\n",
    "y_test = encoded"
   ]
  },
  {
   "cell_type": "code",
   "execution_count": 103,
   "metadata": {},
   "outputs": [
    {
     "name": "stdout",
     "output_type": "stream",
     "text": [
      "(60, 28, 28, 1)\n",
      "(60, 10)\n",
      "(340, 28, 28, 1)\n",
      "(340, 10)\n"
     ]
    }
   ],
   "source": [
    "print(x_test.shape)\n",
    "print(y_test.shape)\n",
    "print(x_train.shape)\n",
    "print(y_train.shape)\n"
   ]
  },
  {
   "cell_type": "markdown",
   "metadata": {},
   "source": [
    "## SAVING CHECKPOINTS\n",
    "We need to save the checkpoints of our model, in case any error occurs in between our training\n",
    "\n",
    "i refered this article to save checkpoints - https://towardsdatascience.com/checkpointing-deep-learning-models-in-keras-a652570b8de6"
   ]
  },
  {
   "cell_type": "code",
   "execution_count": 106,
   "metadata": {},
   "outputs": [],
   "source": [
    "checkpoint_path = \"E:\\Internship\\IIITD MIDAS\\Task 2.2\\checkpoints\\cp-{epoch:04d}.ckpt\""
   ]
  },
  {
   "cell_type": "code",
   "execution_count": 107,
   "metadata": {},
   "outputs": [],
   "source": [
    "cp_callback = tf.keras.callbacks.ModelCheckpoint(\n",
    "    filepath=checkpoint_path,\n",
    "    save_weights_only=True,\n",
    "    save_freq=20,\n",
    "    verbose=1)"
   ]
  },
  {
   "cell_type": "markdown",
   "metadata": {
    "id": "0LYDziviDnj4"
   },
   "source": [
    "## Model\n",
    "\n",
    "Importing required libraries"
   ]
  },
  {
   "cell_type": "code",
   "execution_count": 119,
   "metadata": {},
   "outputs": [],
   "source": [
    "from sklearn.metrics import confusion_matrix\n",
    "import itertools\n",
    "\n",
    "from keras.utils.np_utils import to_categorical # convert to one-hot-encoding\n",
    "from keras.models import Sequential\n",
    "from keras.layers import Dense, Dropout, Flatten, Conv2D, MaxPool2D\n",
    "from keras.optimizers import RMSprop\n",
    "from keras.preprocessing.image import ImageDataGenerator\n",
    "from keras.callbacks import ReduceLROnPlateau"
   ]
  },
  {
   "cell_type": "markdown",
   "metadata": {},
   "source": [
    "#### Here we have created a function to create a CNN model by adding the following Layers\n",
    "I have added 2 convolution layers, with filer size as 32. Padding as Same, and activation function as relu\n",
    "\n",
    "one Max Pooling layer with pool size 2,2 and 1 Droupout to prevent overfitting\n",
    "\n",
    "I have repeated the above archetecture with a filter size of 64, as with more layers, the model might perform better\n",
    "\n",
    "Finally i have added a flatten layer to flatten the input, so that i can feed it to the dense layer.\n",
    "\n",
    "I have then added the dense layer with relu as activation function.\n",
    "\n",
    "At last i have added another dense layer with softmax as activation function because my final output has 62 classes. \n",
    "\n",
    "After this i have added the required optimizers and i have finally compiled the model"
   ]
  },
  {
   "cell_type": "code",
   "execution_count": 120,
   "metadata": {
    "id": "xyoJOa0rDzSX"
   },
   "outputs": [],
   "source": [
    "def create_model():\n",
    "    model = Sequential()\n",
    "\n",
    "    model.add(Conv2D(filters = 32, kernel_size = (5,5),padding = 'Same', \n",
    "                     activation ='relu', input_shape = (28,28,1)))\n",
    "    model.add(Conv2D(filters = 32, kernel_size = (5,5),padding = 'Same', \n",
    "                     activation ='relu'))\n",
    "    model.add(MaxPool2D(pool_size=(2,2)))\n",
    "    model.add(Dropout(0.25))\n",
    "\n",
    "\n",
    "    model.add(Conv2D(filters = 64, kernel_size = (3,3),padding = 'Same', \n",
    "                     activation ='relu'))\n",
    "    model.add(Conv2D(filters = 64, kernel_size = (3,3),padding = 'Same', \n",
    "                     activation ='relu'))\n",
    "    model.add(MaxPool2D(pool_size=(2,2), strides=(2,2)))\n",
    "    model.add(Dropout(0.25))\n",
    "\n",
    "\n",
    "    model.add(Flatten())\n",
    "    model.add(Dense(256, activation = \"relu\"))\n",
    "    model.add(Dropout(0.5))\n",
    "    model.add(Dense(10, activation = \"softmax\"))\n",
    "    \n",
    "    optimizer = RMSprop(lr=0.001,\n",
    "                        rho=0.9,\n",
    "                        epsilon=1e-08,\n",
    "                        decay=0.0)\n",
    "    \n",
    "    model.compile(optimizer = optimizer ,\n",
    "                  loss = \"categorical_crossentropy\",\n",
    "                  metrics=[\"accuracy\"])\n",
    "    return model"
   ]
  },
  {
   "cell_type": "markdown",
   "metadata": {},
   "source": [
    "#### Creating a Model"
   ]
  },
  {
   "cell_type": "code",
   "execution_count": 121,
   "metadata": {},
   "outputs": [],
   "source": [
    "model_ckpt= create_model()"
   ]
  },
  {
   "cell_type": "markdown",
   "metadata": {},
   "source": [
    "#### Setting the number of epochs and batch size"
   ]
  },
  {
   "cell_type": "code",
   "execution_count": 122,
   "metadata": {},
   "outputs": [],
   "source": [
    "epochs = 300 # Turn epochs to 30 to get 0.9967 accuracy\n",
    "batch_size = 86"
   ]
  },
  {
   "cell_type": "markdown",
   "metadata": {},
   "source": [
    "## Data Augmentation\n",
    "#### In data augmentation, we add a few image to the training dataset, with a little variation such as rotation or whitening and fliping of images. We do so, so that our model do not over fit.\n",
    "\n",
    "#### Getting over fit means our model will get so much used to our training dataset, that its prediction on new images will be very faulty"
   ]
  },
  {
   "cell_type": "code",
   "execution_count": 123,
   "metadata": {},
   "outputs": [],
   "source": [
    "datagen = ImageDataGenerator(\n",
    "        featurewise_center=False,  # set input mean to 0 over the dataset\n",
    "        samplewise_center=False,  # set each sample mean to 0\n",
    "        featurewise_std_normalization=False,  # divide inputs by std of the dataset\n",
    "        samplewise_std_normalization=False,  # divide each input by its std\n",
    "        zca_whitening=False,  # apply ZCA whitening\n",
    "        rotation_range=10,  # randomly rotate images in the range (degrees, 0 to 180)\n",
    "        zoom_range = 0.1, # Randomly zoom image \n",
    "        width_shift_range=0.1,  # randomly shift images horizontally (fraction of total width)\n",
    "        height_shift_range=0.1,  # randomly shift images vertically (fraction of total height)\n",
    "        horizontal_flip=False,  # randomly flip images\n",
    "        vertical_flip=False)  # randomly flip images\n",
    "\n",
    "\n",
    "datagen.fit(x_train)"
   ]
  },
  {
   "cell_type": "markdown",
   "metadata": {},
   "source": [
    "#### We are finally running the model we have built, by giving all the attributes to the model.fit_generator function"
   ]
  },
  {
   "cell_type": "code",
   "execution_count": 124,
   "metadata": {},
   "outputs": [
    {
     "name": "stdout",
     "output_type": "stream",
     "text": [
      "Epoch 1/300\n",
      "3/3 - 1s - loss: 2.4945 - accuracy: 0.0984 - val_loss: 2.3059 - val_accuracy: 0.1000\n",
      "Epoch 2/300\n",
      "3/3 - 1s - loss: 2.3145 - accuracy: 0.0969 - val_loss: 2.3026 - val_accuracy: 0.1667\n",
      "Epoch 3/300\n",
      "3/3 - 1s - loss: 2.3057 - accuracy: 0.0787 - val_loss: 2.3022 - val_accuracy: 0.1000\n",
      "Epoch 4/300\n",
      "3/3 - 1s - loss: 2.3042 - accuracy: 0.1181 - val_loss: 2.3022 - val_accuracy: 0.1000\n",
      "Epoch 5/300\n",
      "3/3 - 1s - loss: 2.3036 - accuracy: 0.0969 - val_loss: 2.3023 - val_accuracy: 0.1000\n",
      "Epoch 6/300\n",
      "3/3 - 1s - loss: 2.3037 - accuracy: 0.1024 - val_loss: 2.3021 - val_accuracy: 0.0667\n",
      "Epoch 7/300\n",
      "\n",
      "Epoch 00007: saving model to E:\\Internship\\IIITD MIDAS\\Task 2.2\\checkpoints\\cp-0007.ckpt\n",
      "3/3 - 1s - loss: 2.3055 - accuracy: 0.0709 - val_loss: 2.3019 - val_accuracy: 0.1000\n",
      "Epoch 8/300\n",
      "3/3 - 1s - loss: 2.3043 - accuracy: 0.1024 - val_loss: 2.3021 - val_accuracy: 0.1000\n",
      "Epoch 9/300\n",
      "3/3 - 1s - loss: 2.3040 - accuracy: 0.0906 - val_loss: 2.3021 - val_accuracy: 0.1500\n",
      "Epoch 10/300\n",
      "3/3 - 1s - loss: 2.3047 - accuracy: 0.1024 - val_loss: 2.3019 - val_accuracy: 0.1167\n",
      "Epoch 11/300\n",
      "3/3 - 1s - loss: 2.3028 - accuracy: 0.1181 - val_loss: 2.3020 - val_accuracy: 0.1000\n",
      "Epoch 12/300\n",
      "3/3 - 1s - loss: 2.3034 - accuracy: 0.1220 - val_loss: 2.3021 - val_accuracy: 0.1333\n",
      "Epoch 13/300\n",
      "3/3 - 1s - loss: 2.3003 - accuracy: 0.1063 - val_loss: 2.3024 - val_accuracy: 0.1500\n",
      "Epoch 14/300\n",
      "\n",
      "Epoch 00014: saving model to E:\\Internship\\IIITD MIDAS\\Task 2.2\\checkpoints\\cp-0014.ckpt\n",
      "3/3 - 1s - loss: 2.3090 - accuracy: 0.1202 - val_loss: 2.3020 - val_accuracy: 0.1000\n",
      "Epoch 15/300\n",
      "3/3 - 1s - loss: 2.3034 - accuracy: 0.0906 - val_loss: 2.3015 - val_accuracy: 0.1333\n",
      "Epoch 16/300\n",
      "3/3 - 1s - loss: 2.3010 - accuracy: 0.1260 - val_loss: 2.2996 - val_accuracy: 0.1167\n",
      "Epoch 17/300\n",
      "3/3 - 1s - loss: 2.3026 - accuracy: 0.1063 - val_loss: 2.2975 - val_accuracy: 0.1500\n",
      "Epoch 18/300\n",
      "3/3 - 1s - loss: 2.3033 - accuracy: 0.1260 - val_loss: 2.3006 - val_accuracy: 0.2000\n",
      "Epoch 19/300\n",
      "3/3 - 1s - loss: 2.3017 - accuracy: 0.1417 - val_loss: 2.2923 - val_accuracy: 0.2667\n",
      "Epoch 20/300\n",
      "\n",
      "Epoch 00020: saving model to E:\\Internship\\IIITD MIDAS\\Task 2.2\\checkpoints\\cp-0020.ckpt\n",
      "3/3 - 1s - loss: 2.2938 - accuracy: 0.1260 - val_loss: 2.2634 - val_accuracy: 0.1333\n",
      "Epoch 21/300\n",
      "3/3 - 1s - loss: 2.2655 - accuracy: 0.1417 - val_loss: 2.2084 - val_accuracy: 0.2833\n",
      "Epoch 22/300\n",
      "3/3 - 1s - loss: 2.2729 - accuracy: 0.1550 - val_loss: 2.1999 - val_accuracy: 0.2500\n",
      "Epoch 23/300\n",
      "3/3 - 1s - loss: 2.2086 - accuracy: 0.2283 - val_loss: 2.0564 - val_accuracy: 0.2333\n",
      "Epoch 24/300\n",
      "3/3 - 1s - loss: 2.2166 - accuracy: 0.1969 - val_loss: 2.0455 - val_accuracy: 0.2333\n",
      "Epoch 25/300\n",
      "3/3 - 1s - loss: 2.1521 - accuracy: 0.2402 - val_loss: 2.1156 - val_accuracy: 0.4167\n",
      "Epoch 26/300\n",
      "3/3 - 1s - loss: 2.0918 - accuracy: 0.2717 - val_loss: 1.7898 - val_accuracy: 0.3333\n",
      "Epoch 27/300\n",
      "\n",
      "Epoch 00027: saving model to E:\\Internship\\IIITD MIDAS\\Task 2.2\\checkpoints\\cp-0027.ckpt\n",
      "3/3 - 1s - loss: 2.0515 - accuracy: 0.3189 - val_loss: 1.7507 - val_accuracy: 0.4000\n",
      "Epoch 28/300\n",
      "3/3 - 1s - loss: 2.0350 - accuracy: 0.3346 - val_loss: 1.9830 - val_accuracy: 0.4500\n",
      "Epoch 29/300\n",
      "3/3 - 1s - loss: 2.0080 - accuracy: 0.3071 - val_loss: 1.5935 - val_accuracy: 0.5000\n",
      "Epoch 30/300\n",
      "3/3 - 1s - loss: 1.8719 - accuracy: 0.3819 - val_loss: 1.5390 - val_accuracy: 0.5667\n",
      "Epoch 31/300\n",
      "3/3 - 1s - loss: 1.8509 - accuracy: 0.3504 - val_loss: 1.7390 - val_accuracy: 0.3000\n",
      "Epoch 32/300\n",
      "3/3 - 1s - loss: 1.9197 - accuracy: 0.3661 - val_loss: 1.2670 - val_accuracy: 0.6500\n",
      "Epoch 33/300\n",
      "3/3 - 1s - loss: 1.7960 - accuracy: 0.3543 - val_loss: 1.2759 - val_accuracy: 0.5833\n",
      "Epoch 34/300\n",
      "\n",
      "Epoch 00034: saving model to E:\\Internship\\IIITD MIDAS\\Task 2.2\\checkpoints\\cp-0034.ckpt\n",
      "3/3 - 1s - loss: 1.8155 - accuracy: 0.3858 - val_loss: 1.2983 - val_accuracy: 0.5500\n",
      "Epoch 35/300\n",
      "3/3 - 1s - loss: 1.7635 - accuracy: 0.4094 - val_loss: 1.4637 - val_accuracy: 0.6167\n",
      "Epoch 36/300\n",
      "3/3 - 1s - loss: 1.5957 - accuracy: 0.4845 - val_loss: 1.1561 - val_accuracy: 0.6333\n",
      "Epoch 37/300\n",
      "3/3 - 1s - loss: 1.6879 - accuracy: 0.4331 - val_loss: 1.2668 - val_accuracy: 0.6000\n",
      "Epoch 38/300\n",
      "3/3 - 1s - loss: 1.6912 - accuracy: 0.4173 - val_loss: 1.0322 - val_accuracy: 0.6833\n",
      "Epoch 39/300\n",
      "3/3 - 1s - loss: 1.5668 - accuracy: 0.4882 - val_loss: 1.1102 - val_accuracy: 0.7000\n",
      "Epoch 40/300\n",
      "\n",
      "Epoch 00040: saving model to E:\\Internship\\IIITD MIDAS\\Task 2.2\\checkpoints\\cp-0040.ckpt\n",
      "3/3 - 1s - loss: 1.4458 - accuracy: 0.4843 - val_loss: 0.9985 - val_accuracy: 0.7167\n",
      "Epoch 41/300\n",
      "3/3 - 1s - loss: 1.4764 - accuracy: 0.5349 - val_loss: 0.9493 - val_accuracy: 0.7333\n",
      "Epoch 42/300\n",
      "3/3 - 1s - loss: 1.6895 - accuracy: 0.4213 - val_loss: 1.1261 - val_accuracy: 0.7333\n",
      "Epoch 43/300\n",
      "3/3 - 1s - loss: 1.4234 - accuracy: 0.5236 - val_loss: 0.9578 - val_accuracy: 0.7333\n",
      "Epoch 44/300\n",
      "3/3 - 1s - loss: 1.2996 - accuracy: 0.5827 - val_loss: 0.8001 - val_accuracy: 0.7000\n",
      "Epoch 45/300\n",
      "3/3 - 1s - loss: 1.2107 - accuracy: 0.5591 - val_loss: 0.7755 - val_accuracy: 0.7667\n",
      "Epoch 46/300\n",
      "3/3 - 1s - loss: 1.4162 - accuracy: 0.5000 - val_loss: 0.9747 - val_accuracy: 0.7167\n",
      "Epoch 47/300\n",
      "\n",
      "Epoch 00047: saving model to E:\\Internship\\IIITD MIDAS\\Task 2.2\\checkpoints\\cp-0047.ckpt\n",
      "3/3 - 1s - loss: 1.2313 - accuracy: 0.6063 - val_loss: 0.6777 - val_accuracy: 0.8000\n",
      "Epoch 48/300\n",
      "3/3 - 1s - loss: 1.0636 - accuracy: 0.5866 - val_loss: 0.6128 - val_accuracy: 0.8333\n",
      "Epoch 49/300\n",
      "3/3 - 1s - loss: 1.0830 - accuracy: 0.6299 - val_loss: 0.7138 - val_accuracy: 0.7667\n",
      "Epoch 50/300\n",
      "3/3 - 1s - loss: 1.3966 - accuracy: 0.5276 - val_loss: 0.7594 - val_accuracy: 0.7833\n",
      "Epoch 51/300\n",
      "3/3 - 1s - loss: 1.1119 - accuracy: 0.6102 - val_loss: 0.5426 - val_accuracy: 0.8333\n",
      "Epoch 52/300\n",
      "3/3 - 1s - loss: 1.2187 - accuracy: 0.5906 - val_loss: 0.7250 - val_accuracy: 0.7833\n",
      "Epoch 53/300\n",
      "3/3 - 1s - loss: 0.9856 - accuracy: 0.6772 - val_loss: 0.6164 - val_accuracy: 0.8000\n",
      "Epoch 54/300\n",
      "\n",
      "Epoch 00054: saving model to E:\\Internship\\IIITD MIDAS\\Task 2.2\\checkpoints\\cp-0054.ckpt\n",
      "3/3 - 1s - loss: 0.9771 - accuracy: 0.6395 - val_loss: 0.4785 - val_accuracy: 0.8833\n",
      "Epoch 55/300\n",
      "3/3 - 1s - loss: 0.9740 - accuracy: 0.6667 - val_loss: 0.9183 - val_accuracy: 0.6833\n",
      "Epoch 56/300\n",
      "3/3 - 1s - loss: 1.0526 - accuracy: 0.6772 - val_loss: 0.6021 - val_accuracy: 0.8000\n",
      "Epoch 57/300\n",
      "3/3 - 1s - loss: 0.9535 - accuracy: 0.6614 - val_loss: 0.6470 - val_accuracy: 0.7667\n",
      "Epoch 58/300\n",
      "3/3 - 1s - loss: 0.8687 - accuracy: 0.7205 - val_loss: 0.4689 - val_accuracy: 0.8333\n",
      "Epoch 59/300\n",
      "3/3 - 1s - loss: 1.0071 - accuracy: 0.6575 - val_loss: 0.4929 - val_accuracy: 0.8833\n",
      "Epoch 60/300\n",
      "\n",
      "Epoch 00060: saving model to E:\\Internship\\IIITD MIDAS\\Task 2.2\\checkpoints\\cp-0060.ckpt\n",
      "3/3 - 1s - loss: 0.9245 - accuracy: 0.7126 - val_loss: 0.4689 - val_accuracy: 0.8833\n",
      "Epoch 61/300\n",
      "3/3 - 1s - loss: 0.7978 - accuracy: 0.7441 - val_loss: 0.4864 - val_accuracy: 0.8500\n",
      "Epoch 62/300\n",
      "3/3 - 1s - loss: 0.8480 - accuracy: 0.7047 - val_loss: 0.6239 - val_accuracy: 0.7833\n",
      "Epoch 63/300\n",
      "3/3 - 1s - loss: 0.9061 - accuracy: 0.7093 - val_loss: 0.4090 - val_accuracy: 0.8667\n",
      "Epoch 64/300\n",
      "3/3 - 1s - loss: 0.8575 - accuracy: 0.7165 - val_loss: 0.8875 - val_accuracy: 0.7167\n",
      "Epoch 65/300\n",
      "3/3 - 1s - loss: 0.8686 - accuracy: 0.7087 - val_loss: 0.4510 - val_accuracy: 0.8667\n",
      "Epoch 66/300\n",
      "3/3 - 1s - loss: 0.7452 - accuracy: 0.7480 - val_loss: 0.3836 - val_accuracy: 0.8833\n",
      "Epoch 67/300\n",
      "\n",
      "Epoch 00067: saving model to E:\\Internship\\IIITD MIDAS\\Task 2.2\\checkpoints\\cp-0067.ckpt\n",
      "3/3 - 1s - loss: 0.7539 - accuracy: 0.7598 - val_loss: 0.7018 - val_accuracy: 0.7667\n",
      "Epoch 68/300\n",
      "3/3 - 1s - loss: 0.7679 - accuracy: 0.7205 - val_loss: 0.4165 - val_accuracy: 0.8500\n",
      "Epoch 69/300\n",
      "3/3 - 1s - loss: 0.7580 - accuracy: 0.7717 - val_loss: 0.4346 - val_accuracy: 0.8667\n",
      "Epoch 70/300\n",
      "3/3 - 1s - loss: 0.7189 - accuracy: 0.7638 - val_loss: 0.4176 - val_accuracy: 0.9000\n",
      "Epoch 71/300\n",
      "3/3 - 1s - loss: 0.7580 - accuracy: 0.7559 - val_loss: 0.4997 - val_accuracy: 0.8667\n",
      "Epoch 72/300\n",
      "3/3 - 1s - loss: 0.6757 - accuracy: 0.7638 - val_loss: 0.4875 - val_accuracy: 0.8500\n",
      "Epoch 73/300\n",
      "3/3 - 1s - loss: 0.8125 - accuracy: 0.7132 - val_loss: 0.4110 - val_accuracy: 0.8333\n",
      "Epoch 74/300\n",
      "\n",
      "Epoch 00074: saving model to E:\\Internship\\IIITD MIDAS\\Task 2.2\\checkpoints\\cp-0074.ckpt\n",
      "3/3 - 1s - loss: 0.5756 - accuracy: 0.8189 - val_loss: 0.3622 - val_accuracy: 0.8500\n",
      "Epoch 75/300\n",
      "3/3 - 1s - loss: 0.5481 - accuracy: 0.8150 - val_loss: 0.3977 - val_accuracy: 0.8333\n",
      "Epoch 76/300\n",
      "3/3 - 1s - loss: 0.5973 - accuracy: 0.7835 - val_loss: 0.3628 - val_accuracy: 0.8833\n",
      "Epoch 77/300\n",
      "3/3 - 1s - loss: 0.7379 - accuracy: 0.7677 - val_loss: 0.4112 - val_accuracy: 0.8667\n",
      "Epoch 78/300\n",
      "3/3 - 1s - loss: 0.5866 - accuracy: 0.8150 - val_loss: 0.4958 - val_accuracy: 0.8333\n",
      "Epoch 79/300\n",
      "3/3 - 1s - loss: 0.9073 - accuracy: 0.6969 - val_loss: 0.3599 - val_accuracy: 0.9000\n",
      "Epoch 80/300\n",
      "\n",
      "Epoch 00080: saving model to E:\\Internship\\IIITD MIDAS\\Task 2.2\\checkpoints\\cp-0080.ckpt\n",
      "3/3 - 1s - loss: 0.5622 - accuracy: 0.8268 - val_loss: 0.3489 - val_accuracy: 0.8833\n",
      "Epoch 81/300\n",
      "3/3 - 1s - loss: 0.5863 - accuracy: 0.7868 - val_loss: 0.4235 - val_accuracy: 0.8500\n",
      "Epoch 82/300\n",
      "3/3 - 1s - loss: 0.5990 - accuracy: 0.7992 - val_loss: 0.3732 - val_accuracy: 0.9000\n",
      "Epoch 83/300\n",
      "3/3 - 1s - loss: 0.5013 - accuracy: 0.8661 - val_loss: 0.3441 - val_accuracy: 0.9000\n",
      "Epoch 84/300\n",
      "3/3 - 1s - loss: 0.5588 - accuracy: 0.8386 - val_loss: 0.4795 - val_accuracy: 0.8833\n",
      "Epoch 85/300\n",
      "3/3 - 1s - loss: 0.5192 - accuracy: 0.7992 - val_loss: 0.3381 - val_accuracy: 0.9000\n",
      "Epoch 86/300\n",
      "3/3 - 1s - loss: 0.5075 - accuracy: 0.8101 - val_loss: 0.5063 - val_accuracy: 0.8333\n",
      "Epoch 87/300\n",
      "\n",
      "Epoch 00087: saving model to E:\\Internship\\IIITD MIDAS\\Task 2.2\\checkpoints\\cp-0087.ckpt\n",
      "3/3 - 1s - loss: 0.4508 - accuracy: 0.8740 - val_loss: 0.3805 - val_accuracy: 0.8833\n",
      "Epoch 88/300\n",
      "3/3 - 1s - loss: 0.5721 - accuracy: 0.8023 - val_loss: 0.2914 - val_accuracy: 0.9000\n",
      "Epoch 89/300\n",
      "3/3 - 1s - loss: 0.5385 - accuracy: 0.8189 - val_loss: 0.3441 - val_accuracy: 0.9333\n",
      "Epoch 90/300\n",
      "3/3 - 1s - loss: 0.4407 - accuracy: 0.8488 - val_loss: 0.4884 - val_accuracy: 0.8500\n",
      "Epoch 91/300\n",
      "3/3 - 1s - loss: 0.6449 - accuracy: 0.7520 - val_loss: 0.5033 - val_accuracy: 0.8500\n",
      "Epoch 92/300\n",
      "3/3 - 1s - loss: 0.4710 - accuracy: 0.8307 - val_loss: 0.3231 - val_accuracy: 0.9167\n",
      "Epoch 93/300\n",
      "3/3 - 1s - loss: 0.3641 - accuracy: 0.8740 - val_loss: 0.3626 - val_accuracy: 0.8833\n",
      "Epoch 94/300\n",
      "\n",
      "Epoch 00094: saving model to E:\\Internship\\IIITD MIDAS\\Task 2.2\\checkpoints\\cp-0094.ckpt\n",
      "3/3 - 1s - loss: 0.4206 - accuracy: 0.8346 - val_loss: 0.3991 - val_accuracy: 0.8833\n",
      "Epoch 95/300\n",
      "3/3 - 1s - loss: 0.4681 - accuracy: 0.8543 - val_loss: 0.3228 - val_accuracy: 0.8667\n",
      "Epoch 96/300\n",
      "3/3 - 1s - loss: 0.3668 - accuracy: 0.8937 - val_loss: 0.5183 - val_accuracy: 0.8333\n",
      "Epoch 97/300\n",
      "3/3 - 1s - loss: 0.5738 - accuracy: 0.8031 - val_loss: 0.3169 - val_accuracy: 0.8667\n",
      "Epoch 98/300\n",
      "3/3 - 1s - loss: 0.4222 - accuracy: 0.8740 - val_loss: 0.3074 - val_accuracy: 0.8833\n",
      "Epoch 99/300\n",
      "3/3 - 1s - loss: 0.3612 - accuracy: 0.8721 - val_loss: 0.2720 - val_accuracy: 0.9167\n",
      "Epoch 100/300\n",
      "\n",
      "Epoch 00100: saving model to E:\\Internship\\IIITD MIDAS\\Task 2.2\\checkpoints\\cp-0100.ckpt\n",
      "3/3 - 1s - loss: 0.4099 - accuracy: 0.8488 - val_loss: 0.5674 - val_accuracy: 0.8333\n",
      "Epoch 101/300\n",
      "3/3 - 1s - loss: 0.5327 - accuracy: 0.8110 - val_loss: 0.2697 - val_accuracy: 0.9000\n",
      "Epoch 102/300\n",
      "3/3 - 1s - loss: 0.3633 - accuracy: 0.8740 - val_loss: 0.2827 - val_accuracy: 0.9000\n",
      "Epoch 103/300\n",
      "3/3 - 1s - loss: 0.3901 - accuracy: 0.8504 - val_loss: 0.3760 - val_accuracy: 0.8833\n",
      "Epoch 104/300\n",
      "3/3 - 1s - loss: 0.3937 - accuracy: 0.8583 - val_loss: 0.3472 - val_accuracy: 0.8667\n",
      "Epoch 105/300\n",
      "3/3 - 1s - loss: 0.2233 - accuracy: 0.9213 - val_loss: 0.4294 - val_accuracy: 0.8833\n",
      "Epoch 106/300\n",
      "3/3 - 1s - loss: 0.3689 - accuracy: 0.8701 - val_loss: 0.3484 - val_accuracy: 0.9000\n",
      "Epoch 107/300\n",
      "\n",
      "Epoch 00107: saving model to E:\\Internship\\IIITD MIDAS\\Task 2.2\\checkpoints\\cp-0107.ckpt\n",
      "3/3 - 1s - loss: 0.3650 - accuracy: 0.8622 - val_loss: 0.3788 - val_accuracy: 0.8667\n",
      "Epoch 108/300\n",
      "3/3 - 1s - loss: 0.3609 - accuracy: 0.8780 - val_loss: 0.3386 - val_accuracy: 0.8833\n",
      "Epoch 109/300\n",
      "3/3 - 1s - loss: 0.3623 - accuracy: 0.8740 - val_loss: 0.3109 - val_accuracy: 0.8667\n",
      "Epoch 110/300\n",
      "3/3 - 1s - loss: 0.3779 - accuracy: 0.8876 - val_loss: 0.3641 - val_accuracy: 0.8833\n",
      "Epoch 111/300\n",
      "3/3 - 1s - loss: 0.3420 - accuracy: 0.8937 - val_loss: 0.3849 - val_accuracy: 0.9000\n",
      "Epoch 112/300\n",
      "3/3 - 1s - loss: 0.3820 - accuracy: 0.8661 - val_loss: 0.5155 - val_accuracy: 0.8500\n",
      "Epoch 113/300\n",
      "3/3 - 1s - loss: 0.3882 - accuracy: 0.8721 - val_loss: 0.3333 - val_accuracy: 0.9167\n",
      "Epoch 114/300\n",
      "\n",
      "Epoch 00114: saving model to E:\\Internship\\IIITD MIDAS\\Task 2.2\\checkpoints\\cp-0114.ckpt\n",
      "3/3 - 1s - loss: 0.3982 - accuracy: 0.8661 - val_loss: 0.4196 - val_accuracy: 0.8667\n",
      "Epoch 115/300\n",
      "3/3 - 1s - loss: 0.3008 - accuracy: 0.8992 - val_loss: 0.3944 - val_accuracy: 0.8667\n",
      "Epoch 116/300\n",
      "3/3 - 1s - loss: 0.4477 - accuracy: 0.8527 - val_loss: 0.3331 - val_accuracy: 0.8667\n",
      "Epoch 117/300\n",
      "3/3 - 1s - loss: 0.2509 - accuracy: 0.9213 - val_loss: 0.2885 - val_accuracy: 0.9000\n",
      "Epoch 118/300\n",
      "3/3 - 1s - loss: 0.3378 - accuracy: 0.8740 - val_loss: 0.3434 - val_accuracy: 0.8667\n",
      "Epoch 119/300\n",
      "3/3 - 1s - loss: 0.3415 - accuracy: 0.8740 - val_loss: 0.3481 - val_accuracy: 0.9000\n",
      "Epoch 120/300\n",
      "\n",
      "Epoch 00120: saving model to E:\\Internship\\IIITD MIDAS\\Task 2.2\\checkpoints\\cp-0120.ckpt\n",
      "3/3 - 1s - loss: 0.2777 - accuracy: 0.9055 - val_loss: 0.4235 - val_accuracy: 0.8667\n",
      "Epoch 121/300\n",
      "3/3 - 1s - loss: 0.2596 - accuracy: 0.9173 - val_loss: 0.2533 - val_accuracy: 0.9167\n",
      "Epoch 122/300\n",
      "3/3 - 1s - loss: 0.3688 - accuracy: 0.8740 - val_loss: 0.3506 - val_accuracy: 0.8667\n",
      "Epoch 123/300\n",
      "3/3 - 1s - loss: 0.3563 - accuracy: 0.8819 - val_loss: 0.3003 - val_accuracy: 0.8833\n",
      "Epoch 124/300\n",
      "3/3 - 1s - loss: 0.3425 - accuracy: 0.8721 - val_loss: 0.2570 - val_accuracy: 0.9167\n",
      "Epoch 125/300\n",
      "3/3 - 1s - loss: 0.3012 - accuracy: 0.8976 - val_loss: 0.2732 - val_accuracy: 0.9167\n",
      "Epoch 126/300\n",
      "3/3 - 1s - loss: 0.1763 - accuracy: 0.9488 - val_loss: 0.2963 - val_accuracy: 0.9167\n",
      "Epoch 127/300\n",
      "\n",
      "Epoch 00127: saving model to E:\\Internship\\IIITD MIDAS\\Task 2.2\\checkpoints\\cp-0127.ckpt\n",
      "3/3 - 1s - loss: 0.3042 - accuracy: 0.9055 - val_loss: 0.4677 - val_accuracy: 0.8333\n",
      "Epoch 128/300\n",
      "3/3 - 1s - loss: 0.4438 - accuracy: 0.8643 - val_loss: 0.2389 - val_accuracy: 0.9167\n",
      "Epoch 129/300\n",
      "3/3 - 1s - loss: 0.2215 - accuracy: 0.9291 - val_loss: 0.2690 - val_accuracy: 0.9167\n",
      "Epoch 130/300\n",
      "3/3 - 1s - loss: 0.2329 - accuracy: 0.9173 - val_loss: 0.2982 - val_accuracy: 0.9000\n",
      "Epoch 131/300\n",
      "3/3 - 1s - loss: 0.1660 - accuracy: 0.9528 - val_loss: 0.3229 - val_accuracy: 0.8833\n",
      "Epoch 132/300\n",
      "3/3 - 1s - loss: 0.2868 - accuracy: 0.9134 - val_loss: 0.2805 - val_accuracy: 0.9167\n",
      "Epoch 133/300\n",
      "3/3 - 1s - loss: 0.2292 - accuracy: 0.9186 - val_loss: 0.2940 - val_accuracy: 0.9333\n",
      "Epoch 134/300\n",
      "\n",
      "Epoch 00134: saving model to E:\\Internship\\IIITD MIDAS\\Task 2.2\\checkpoints\\cp-0134.ckpt\n",
      "3/3 - 1s - loss: 0.2584 - accuracy: 0.9173 - val_loss: 0.2415 - val_accuracy: 0.9333\n",
      "Epoch 135/300\n",
      "3/3 - 1s - loss: 0.2571 - accuracy: 0.9094 - val_loss: 0.3278 - val_accuracy: 0.9000\n",
      "Epoch 136/300\n",
      "3/3 - 1s - loss: 0.2513 - accuracy: 0.9094 - val_loss: 0.2043 - val_accuracy: 0.9333\n",
      "Epoch 137/300\n",
      "3/3 - 1s - loss: 0.1930 - accuracy: 0.9331 - val_loss: 0.1951 - val_accuracy: 0.9167\n",
      "Epoch 138/300\n",
      "3/3 - 1s - loss: 0.2448 - accuracy: 0.9134 - val_loss: 0.2309 - val_accuracy: 0.9500\n",
      "Epoch 139/300\n",
      "3/3 - 1s - loss: 0.2372 - accuracy: 0.9291 - val_loss: 0.2782 - val_accuracy: 0.9167\n",
      "Epoch 140/300\n",
      "\n",
      "Epoch 00140: saving model to E:\\Internship\\IIITD MIDAS\\Task 2.2\\checkpoints\\cp-0140.ckpt\n",
      "3/3 - 1s - loss: 0.2496 - accuracy: 0.9094 - val_loss: 0.3110 - val_accuracy: 0.9000\n",
      "Epoch 141/300\n",
      "3/3 - 1s - loss: 0.2781 - accuracy: 0.9147 - val_loss: 0.2297 - val_accuracy: 0.9500\n",
      "Epoch 142/300\n",
      "3/3 - 1s - loss: 0.2214 - accuracy: 0.9291 - val_loss: 0.3096 - val_accuracy: 0.9167\n",
      "Epoch 143/300\n",
      "3/3 - 1s - loss: 0.1909 - accuracy: 0.9291 - val_loss: 0.2708 - val_accuracy: 0.9333\n",
      "Epoch 144/300\n",
      "3/3 - 1s - loss: 0.2379 - accuracy: 0.9341 - val_loss: 0.2572 - val_accuracy: 0.9167\n",
      "Epoch 145/300\n",
      "3/3 - 1s - loss: 0.2536 - accuracy: 0.8953 - val_loss: 0.4004 - val_accuracy: 0.9000\n",
      "Epoch 146/300\n",
      "3/3 - 1s - loss: 0.2024 - accuracy: 0.9291 - val_loss: 0.3490 - val_accuracy: 0.9000\n",
      "Epoch 147/300\n",
      "\n",
      "Epoch 00147: saving model to E:\\Internship\\IIITD MIDAS\\Task 2.2\\checkpoints\\cp-0147.ckpt\n",
      "3/3 - 1s - loss: 0.2286 - accuracy: 0.9370 - val_loss: 0.3457 - val_accuracy: 0.9000\n",
      "Epoch 148/300\n",
      "3/3 - 1s - loss: 0.2259 - accuracy: 0.9173 - val_loss: 0.2702 - val_accuracy: 0.9000\n",
      "Epoch 149/300\n",
      "3/3 - 1s - loss: 0.2244 - accuracy: 0.9173 - val_loss: 0.3174 - val_accuracy: 0.9000\n",
      "Epoch 150/300\n",
      "3/3 - 1s - loss: 0.2143 - accuracy: 0.9252 - val_loss: 0.3035 - val_accuracy: 0.9000\n",
      "Epoch 151/300\n",
      "3/3 - 1s - loss: 0.1542 - accuracy: 0.9409 - val_loss: 0.2935 - val_accuracy: 0.9333\n",
      "Epoch 152/300\n",
      "3/3 - 1s - loss: 0.2306 - accuracy: 0.9134 - val_loss: 0.2210 - val_accuracy: 0.9500\n",
      "Epoch 153/300\n",
      "3/3 - 1s - loss: 0.1749 - accuracy: 0.9264 - val_loss: 0.2749 - val_accuracy: 0.9500\n",
      "Epoch 154/300\n",
      "\n",
      "Epoch 00154: saving model to E:\\Internship\\IIITD MIDAS\\Task 2.2\\checkpoints\\cp-0154.ckpt\n",
      "3/3 - 1s - loss: 0.1584 - accuracy: 0.9496 - val_loss: 0.2623 - val_accuracy: 0.9333\n",
      "Epoch 155/300\n",
      "3/3 - 1s - loss: 0.1411 - accuracy: 0.9606 - val_loss: 0.2307 - val_accuracy: 0.9500\n",
      "Epoch 156/300\n",
      "3/3 - 1s - loss: 0.1757 - accuracy: 0.9252 - val_loss: 0.2186 - val_accuracy: 0.9500\n",
      "Epoch 157/300\n",
      "3/3 - 1s - loss: 0.3291 - accuracy: 0.8976 - val_loss: 0.4649 - val_accuracy: 0.8500\n",
      "Epoch 158/300\n",
      "3/3 - 1s - loss: 0.3371 - accuracy: 0.9094 - val_loss: 0.2574 - val_accuracy: 0.9167\n",
      "Epoch 159/300\n",
      "3/3 - 1s - loss: 0.1867 - accuracy: 0.9419 - val_loss: 0.2868 - val_accuracy: 0.9000\n",
      "Epoch 160/300\n",
      "\n",
      "Epoch 00160: saving model to E:\\Internship\\IIITD MIDAS\\Task 2.2\\checkpoints\\cp-0160.ckpt\n",
      "3/3 - 1s - loss: 0.2164 - accuracy: 0.9331 - val_loss: 0.2289 - val_accuracy: 0.9333\n",
      "Epoch 161/300\n",
      "3/3 - 1s - loss: 0.1661 - accuracy: 0.9457 - val_loss: 0.2823 - val_accuracy: 0.9000\n",
      "Epoch 162/300\n",
      "3/3 - 1s - loss: 0.1418 - accuracy: 0.9496 - val_loss: 0.2293 - val_accuracy: 0.9500\n",
      "Epoch 163/300\n",
      "3/3 - 1s - loss: 0.1745 - accuracy: 0.9331 - val_loss: 0.2012 - val_accuracy: 0.9333\n",
      "Epoch 164/300\n",
      "3/3 - 1s - loss: 0.1662 - accuracy: 0.9225 - val_loss: 0.2928 - val_accuracy: 0.8833\n",
      "Epoch 165/300\n",
      "3/3 - 1s - loss: 0.1601 - accuracy: 0.9409 - val_loss: 0.2151 - val_accuracy: 0.9500\n",
      "Epoch 166/300\n",
      "3/3 - 1s - loss: 0.1513 - accuracy: 0.9606 - val_loss: 0.1862 - val_accuracy: 0.9667\n",
      "Epoch 167/300\n",
      "\n",
      "Epoch 00167: saving model to E:\\Internship\\IIITD MIDAS\\Task 2.2\\checkpoints\\cp-0167.ckpt\n",
      "3/3 - 1s - loss: 0.1996 - accuracy: 0.9409 - val_loss: 0.2564 - val_accuracy: 0.9333\n",
      "Epoch 168/300\n",
      "3/3 - 1s - loss: 0.1893 - accuracy: 0.9409 - val_loss: 0.1997 - val_accuracy: 0.9667\n",
      "Epoch 169/300\n",
      "3/3 - 1s - loss: 0.2282 - accuracy: 0.9331 - val_loss: 0.2673 - val_accuracy: 0.9000\n",
      "Epoch 170/300\n",
      "3/3 - 1s - loss: 0.1827 - accuracy: 0.9134 - val_loss: 0.3809 - val_accuracy: 0.9000\n",
      "Epoch 171/300\n",
      "3/3 - 1s - loss: 0.1857 - accuracy: 0.9409 - val_loss: 0.2559 - val_accuracy: 0.9333\n",
      "Epoch 172/300\n",
      "3/3 - 1s - loss: 0.1232 - accuracy: 0.9567 - val_loss: 0.3081 - val_accuracy: 0.9167\n",
      "Epoch 173/300\n",
      "3/3 - 1s - loss: 0.1544 - accuracy: 0.9419 - val_loss: 0.2675 - val_accuracy: 0.9167\n",
      "Epoch 174/300\n",
      "\n",
      "Epoch 00174: saving model to E:\\Internship\\IIITD MIDAS\\Task 2.2\\checkpoints\\cp-0174.ckpt\n",
      "3/3 - 1s - loss: 0.1165 - accuracy: 0.9567 - val_loss: 0.2762 - val_accuracy: 0.9333\n",
      "Epoch 175/300\n",
      "3/3 - 1s - loss: 0.2263 - accuracy: 0.9252 - val_loss: 0.2362 - val_accuracy: 0.9333\n",
      "Epoch 176/300\n",
      "3/3 - 1s - loss: 0.1115 - accuracy: 0.9606 - val_loss: 0.2590 - val_accuracy: 0.9333\n",
      "Epoch 177/300\n",
      "3/3 - 1s - loss: 0.1228 - accuracy: 0.9535 - val_loss: 0.2552 - val_accuracy: 0.9500\n",
      "Epoch 178/300\n",
      "3/3 - 1s - loss: 0.1489 - accuracy: 0.9488 - val_loss: 0.5171 - val_accuracy: 0.9000\n",
      "Epoch 179/300\n",
      "3/3 - 1s - loss: 0.1396 - accuracy: 0.9341 - val_loss: 0.3698 - val_accuracy: 0.9167\n",
      "Epoch 180/300\n",
      "\n",
      "Epoch 00180: saving model to E:\\Internship\\IIITD MIDAS\\Task 2.2\\checkpoints\\cp-0180.ckpt\n",
      "3/3 - 1s - loss: 0.1217 - accuracy: 0.9606 - val_loss: 0.2242 - val_accuracy: 0.9333\n",
      "Epoch 181/300\n",
      "3/3 - 1s - loss: 0.1969 - accuracy: 0.9264 - val_loss: 0.3718 - val_accuracy: 0.9333\n",
      "Epoch 182/300\n",
      "3/3 - 1s - loss: 0.2257 - accuracy: 0.9302 - val_loss: 0.2574 - val_accuracy: 0.9333\n",
      "Epoch 183/300\n",
      "3/3 - 1s - loss: 0.1359 - accuracy: 0.9567 - val_loss: 0.3090 - val_accuracy: 0.9000\n",
      "Epoch 184/300\n",
      "3/3 - 1s - loss: 0.1480 - accuracy: 0.9528 - val_loss: 0.3679 - val_accuracy: 0.9500\n",
      "Epoch 185/300\n",
      "3/3 - 1s - loss: 0.0954 - accuracy: 0.9651 - val_loss: 0.2994 - val_accuracy: 0.9333\n",
      "Epoch 186/300\n",
      "3/3 - 1s - loss: 0.1153 - accuracy: 0.9606 - val_loss: 0.2020 - val_accuracy: 0.9500\n",
      "Epoch 187/300\n",
      "\n",
      "Epoch 00187: saving model to E:\\Internship\\IIITD MIDAS\\Task 2.2\\checkpoints\\cp-0187.ckpt\n",
      "3/3 - 1s - loss: 0.1705 - accuracy: 0.9449 - val_loss: 0.2976 - val_accuracy: 0.9333\n",
      "Epoch 188/300\n",
      "3/3 - 1s - loss: 0.1809 - accuracy: 0.9380 - val_loss: 0.4202 - val_accuracy: 0.9167\n",
      "Epoch 189/300\n",
      "3/3 - 1s - loss: 0.1065 - accuracy: 0.9685 - val_loss: 0.2602 - val_accuracy: 0.9333\n",
      "Epoch 190/300\n",
      "3/3 - 1s - loss: 0.0867 - accuracy: 0.9685 - val_loss: 0.2453 - val_accuracy: 0.9500\n",
      "Epoch 191/300\n",
      "3/3 - 1s - loss: 0.1350 - accuracy: 0.9685 - val_loss: 0.3562 - val_accuracy: 0.9167\n",
      "Epoch 192/300\n",
      "3/3 - 1s - loss: 0.1409 - accuracy: 0.9729 - val_loss: 0.2326 - val_accuracy: 0.9333\n",
      "Epoch 193/300\n",
      "3/3 - 1s - loss: 0.1415 - accuracy: 0.9409 - val_loss: 0.3356 - val_accuracy: 0.9333\n",
      "Epoch 194/300\n",
      "\n",
      "Epoch 00194: saving model to E:\\Internship\\IIITD MIDAS\\Task 2.2\\checkpoints\\cp-0194.ckpt\n",
      "3/3 - 1s - loss: 0.0914 - accuracy: 0.9646 - val_loss: 0.3002 - val_accuracy: 0.9333\n",
      "Epoch 195/300\n",
      "3/3 - 1s - loss: 0.1035 - accuracy: 0.9606 - val_loss: 0.2806 - val_accuracy: 0.9333\n",
      "Epoch 196/300\n",
      "3/3 - 1s - loss: 0.0916 - accuracy: 0.9606 - val_loss: 0.3652 - val_accuracy: 0.9333\n",
      "Epoch 197/300\n",
      "3/3 - 1s - loss: 0.1241 - accuracy: 0.9646 - val_loss: 0.4223 - val_accuracy: 0.9333\n",
      "Epoch 198/300\n",
      "3/3 - 1s - loss: 0.2052 - accuracy: 0.9409 - val_loss: 0.2064 - val_accuracy: 0.9333\n",
      "Epoch 199/300\n",
      "3/3 - 1s - loss: 0.1450 - accuracy: 0.9370 - val_loss: 0.2512 - val_accuracy: 0.9333\n",
      "Epoch 200/300\n",
      "\n",
      "Epoch 00200: saving model to E:\\Internship\\IIITD MIDAS\\Task 2.2\\checkpoints\\cp-0200.ckpt\n",
      "3/3 - 1s - loss: 0.1000 - accuracy: 0.9567 - val_loss: 0.2350 - val_accuracy: 0.9167\n",
      "Epoch 201/300\n",
      "3/3 - 1s - loss: 0.0865 - accuracy: 0.9724 - val_loss: 0.4779 - val_accuracy: 0.8667\n",
      "Epoch 202/300\n",
      "3/3 - 1s - loss: 0.1169 - accuracy: 0.9535 - val_loss: 0.2628 - val_accuracy: 0.9333\n",
      "Epoch 203/300\n",
      "3/3 - 1s - loss: 0.1432 - accuracy: 0.9646 - val_loss: 0.2398 - val_accuracy: 0.9667\n",
      "Epoch 204/300\n",
      "3/3 - 1s - loss: 0.0735 - accuracy: 0.9845 - val_loss: 0.2302 - val_accuracy: 0.9500\n",
      "Epoch 205/300\n",
      "3/3 - 1s - loss: 0.0753 - accuracy: 0.9764 - val_loss: 0.2394 - val_accuracy: 0.9333\n",
      "Epoch 206/300\n",
      "3/3 - 1s - loss: 0.0516 - accuracy: 0.9803 - val_loss: 0.3212 - val_accuracy: 0.9167\n",
      "Epoch 207/300\n",
      "\n",
      "Epoch 00207: saving model to E:\\Internship\\IIITD MIDAS\\Task 2.2\\checkpoints\\cp-0207.ckpt\n",
      "3/3 - 1s - loss: 0.1825 - accuracy: 0.9535 - val_loss: 0.2649 - val_accuracy: 0.9167\n",
      "Epoch 208/300\n",
      "3/3 - 1s - loss: 0.1208 - accuracy: 0.9685 - val_loss: 0.2904 - val_accuracy: 0.9333\n",
      "Epoch 209/300\n",
      "3/3 - 1s - loss: 0.1334 - accuracy: 0.9409 - val_loss: 0.3477 - val_accuracy: 0.9167\n",
      "Epoch 210/300\n",
      "3/3 - 1s - loss: 0.1463 - accuracy: 0.9574 - val_loss: 0.1765 - val_accuracy: 0.9500\n",
      "Epoch 211/300\n",
      "3/3 - 1s - loss: 0.0507 - accuracy: 0.9843 - val_loss: 0.2425 - val_accuracy: 0.9333\n",
      "Epoch 212/300\n",
      "3/3 - 1s - loss: 0.2187 - accuracy: 0.9449 - val_loss: 0.2413 - val_accuracy: 0.9500\n",
      "Epoch 213/300\n",
      "3/3 - 1s - loss: 0.1542 - accuracy: 0.9409 - val_loss: 0.2849 - val_accuracy: 0.9167\n",
      "Epoch 214/300\n",
      "\n",
      "Epoch 00214: saving model to E:\\Internship\\IIITD MIDAS\\Task 2.2\\checkpoints\\cp-0214.ckpt\n",
      "3/3 - 1s - loss: 0.1419 - accuracy: 0.9409 - val_loss: 0.1751 - val_accuracy: 0.9500\n",
      "Epoch 215/300\n",
      "3/3 - 1s - loss: 0.0650 - accuracy: 0.9843 - val_loss: 0.2301 - val_accuracy: 0.9333\n",
      "Epoch 216/300\n",
      "3/3 - 1s - loss: 0.1283 - accuracy: 0.9567 - val_loss: 0.1569 - val_accuracy: 0.9667\n",
      "Epoch 217/300\n",
      "3/3 - 1s - loss: 0.1154 - accuracy: 0.9606 - val_loss: 0.3129 - val_accuracy: 0.9167\n",
      "Epoch 218/300\n",
      "3/3 - 1s - loss: 0.0686 - accuracy: 0.9806 - val_loss: 0.3067 - val_accuracy: 0.9333\n",
      "Epoch 219/300\n",
      "3/3 - 1s - loss: 0.1904 - accuracy: 0.9496 - val_loss: 0.1622 - val_accuracy: 0.9667\n",
      "Epoch 220/300\n",
      "\n",
      "Epoch 00220: saving model to E:\\Internship\\IIITD MIDAS\\Task 2.2\\checkpoints\\cp-0220.ckpt\n",
      "3/3 - 1s - loss: 0.0425 - accuracy: 0.9922 - val_loss: 0.2239 - val_accuracy: 0.9333\n",
      "Epoch 221/300\n",
      "3/3 - 1s - loss: 0.1063 - accuracy: 0.9724 - val_loss: 0.1777 - val_accuracy: 0.9500\n",
      "Epoch 222/300\n",
      "3/3 - 1s - loss: 0.1158 - accuracy: 0.9488 - val_loss: 0.2469 - val_accuracy: 0.9167\n",
      "Epoch 223/300\n",
      "3/3 - 1s - loss: 0.1592 - accuracy: 0.9574 - val_loss: 0.1491 - val_accuracy: 0.9500\n",
      "Epoch 224/300\n",
      "3/3 - 1s - loss: 0.1759 - accuracy: 0.9488 - val_loss: 0.1926 - val_accuracy: 0.9667\n",
      "Epoch 225/300\n",
      "3/3 - 1s - loss: 0.1082 - accuracy: 0.9606 - val_loss: 0.2587 - val_accuracy: 0.9333\n",
      "Epoch 226/300\n",
      "3/3 - 1s - loss: 0.0351 - accuracy: 0.9961 - val_loss: 0.2284 - val_accuracy: 0.9500\n",
      "Epoch 227/300\n",
      "\n",
      "Epoch 00227: saving model to E:\\Internship\\IIITD MIDAS\\Task 2.2\\checkpoints\\cp-0227.ckpt\n",
      "3/3 - 1s - loss: 0.0732 - accuracy: 0.9764 - val_loss: 0.2955 - val_accuracy: 0.9500\n",
      "Epoch 228/300\n",
      "3/3 - 1s - loss: 0.1657 - accuracy: 0.9488 - val_loss: 0.4836 - val_accuracy: 0.9167\n",
      "Epoch 229/300\n",
      "3/3 - 1s - loss: 0.0971 - accuracy: 0.9685 - val_loss: 0.3313 - val_accuracy: 0.9500\n",
      "Epoch 230/300\n",
      "3/3 - 1s - loss: 0.0820 - accuracy: 0.9803 - val_loss: 0.2629 - val_accuracy: 0.9500\n",
      "Epoch 231/300\n",
      "3/3 - 1s - loss: 0.0644 - accuracy: 0.9724 - val_loss: 0.3155 - val_accuracy: 0.9333\n",
      "Epoch 232/300\n",
      "3/3 - 1s - loss: 0.1123 - accuracy: 0.9606 - val_loss: 0.2104 - val_accuracy: 0.9500\n",
      "Epoch 233/300\n",
      "3/3 - 1s - loss: 0.1388 - accuracy: 0.9496 - val_loss: 0.3166 - val_accuracy: 0.9500\n",
      "Epoch 234/300\n",
      "\n",
      "Epoch 00234: saving model to E:\\Internship\\IIITD MIDAS\\Task 2.2\\checkpoints\\cp-0234.ckpt\n",
      "3/3 - 1s - loss: 0.0904 - accuracy: 0.9690 - val_loss: 0.3120 - val_accuracy: 0.9500\n",
      "Epoch 235/300\n",
      "3/3 - 1s - loss: 0.0554 - accuracy: 0.9845 - val_loss: 0.2429 - val_accuracy: 0.9500\n",
      "Epoch 236/300\n",
      "3/3 - 1s - loss: 0.0888 - accuracy: 0.9646 - val_loss: 0.3432 - val_accuracy: 0.9333\n",
      "Epoch 237/300\n",
      "3/3 - 1s - loss: 0.0532 - accuracy: 0.9843 - val_loss: 0.2942 - val_accuracy: 0.9333\n",
      "Epoch 238/300\n",
      "3/3 - 1s - loss: 0.0371 - accuracy: 0.9882 - val_loss: 0.3259 - val_accuracy: 0.9500\n",
      "Epoch 239/300\n",
      "3/3 - 1s - loss: 0.1238 - accuracy: 0.9646 - val_loss: 0.3267 - val_accuracy: 0.9500\n",
      "Epoch 240/300\n",
      "\n",
      "Epoch 00240: saving model to E:\\Internship\\IIITD MIDAS\\Task 2.2\\checkpoints\\cp-0240.ckpt\n",
      "3/3 - 1s - loss: 0.1062 - accuracy: 0.9606 - val_loss: 0.2392 - val_accuracy: 0.9333\n",
      "Epoch 241/300\n",
      "3/3 - 1s - loss: 0.0966 - accuracy: 0.9685 - val_loss: 0.4685 - val_accuracy: 0.9167\n",
      "Epoch 242/300\n",
      "3/3 - 1s - loss: 0.1072 - accuracy: 0.9567 - val_loss: 0.4124 - val_accuracy: 0.9500\n",
      "Epoch 243/300\n",
      "3/3 - 1s - loss: 0.0960 - accuracy: 0.9574 - val_loss: 0.3491 - val_accuracy: 0.9333\n",
      "Epoch 244/300\n",
      "3/3 - 1s - loss: 0.0878 - accuracy: 0.9651 - val_loss: 0.2002 - val_accuracy: 0.9667\n",
      "Epoch 245/300\n",
      "3/3 - 1s - loss: 0.1515 - accuracy: 0.9528 - val_loss: 0.2612 - val_accuracy: 0.9333\n",
      "Epoch 246/300\n",
      "3/3 - 1s - loss: 0.1441 - accuracy: 0.9528 - val_loss: 0.3332 - val_accuracy: 0.9333\n",
      "Epoch 247/300\n",
      "\n",
      "Epoch 00247: saving model to E:\\Internship\\IIITD MIDAS\\Task 2.2\\checkpoints\\cp-0247.ckpt\n",
      "3/3 - 1s - loss: 0.0622 - accuracy: 0.9843 - val_loss: 0.2569 - val_accuracy: 0.9167\n",
      "Epoch 248/300\n",
      "3/3 - 1s - loss: 0.0479 - accuracy: 0.9803 - val_loss: 0.3340 - val_accuracy: 0.9000\n",
      "Epoch 249/300\n",
      "3/3 - 1s - loss: 0.0478 - accuracy: 0.9803 - val_loss: 0.2453 - val_accuracy: 0.9500\n",
      "Epoch 250/300\n",
      "3/3 - 1s - loss: 0.0940 - accuracy: 0.9729 - val_loss: 0.2506 - val_accuracy: 0.9333\n",
      "Epoch 251/300\n",
      "3/3 - 1s - loss: 0.1039 - accuracy: 0.9685 - val_loss: 0.2022 - val_accuracy: 0.9500\n",
      "Epoch 252/300\n",
      "3/3 - 1s - loss: 0.0969 - accuracy: 0.9724 - val_loss: 0.2784 - val_accuracy: 0.9000\n",
      "Epoch 253/300\n",
      "3/3 - 1s - loss: 0.0893 - accuracy: 0.9685 - val_loss: 0.3461 - val_accuracy: 0.9167\n",
      "Epoch 254/300\n",
      "\n",
      "Epoch 00254: saving model to E:\\Internship\\IIITD MIDAS\\Task 2.2\\checkpoints\\cp-0254.ckpt\n",
      "3/3 - 1s - loss: 0.0544 - accuracy: 0.9843 - val_loss: 0.2011 - val_accuracy: 0.9333\n",
      "Epoch 255/300\n",
      "3/3 - 1s - loss: 0.1159 - accuracy: 0.9646 - val_loss: 0.2309 - val_accuracy: 0.9167\n",
      "Epoch 256/300\n",
      "3/3 - 1s - loss: 0.1215 - accuracy: 0.9606 - val_loss: 0.2268 - val_accuracy: 0.9167\n",
      "Epoch 257/300\n",
      "3/3 - 1s - loss: 0.1117 - accuracy: 0.9612 - val_loss: 0.1533 - val_accuracy: 0.9333\n",
      "Epoch 258/300\n",
      "3/3 - 1s - loss: 0.0596 - accuracy: 0.9803 - val_loss: 0.2060 - val_accuracy: 0.9333\n",
      "Epoch 259/300\n",
      "3/3 - 1s - loss: 0.1809 - accuracy: 0.9409 - val_loss: 0.2309 - val_accuracy: 0.9167\n",
      "Epoch 260/300\n",
      "\n",
      "Epoch 00260: saving model to E:\\Internship\\IIITD MIDAS\\Task 2.2\\checkpoints\\cp-0260.ckpt\n",
      "3/3 - 1s - loss: 0.0538 - accuracy: 0.9803 - val_loss: 0.1754 - val_accuracy: 0.9333\n",
      "Epoch 261/300\n",
      "3/3 - 1s - loss: 0.0334 - accuracy: 0.9961 - val_loss: 0.1746 - val_accuracy: 0.9333\n",
      "Epoch 262/300\n",
      "3/3 - 1s - loss: 0.0391 - accuracy: 0.9843 - val_loss: 0.1502 - val_accuracy: 0.9667\n",
      "Epoch 263/300\n",
      "3/3 - 1s - loss: 0.1107 - accuracy: 0.9651 - val_loss: 0.1204 - val_accuracy: 0.9667\n",
      "Epoch 264/300\n",
      "3/3 - 1s - loss: 0.0807 - accuracy: 0.9646 - val_loss: 0.1816 - val_accuracy: 0.9667\n",
      "Epoch 265/300\n",
      "3/3 - 1s - loss: 0.0842 - accuracy: 0.9767 - val_loss: 0.1993 - val_accuracy: 0.9500\n",
      "Epoch 266/300\n",
      "3/3 - 1s - loss: 0.0518 - accuracy: 0.9843 - val_loss: 0.2700 - val_accuracy: 0.9500\n",
      "Epoch 267/300\n",
      "\n",
      "Epoch 00267: saving model to E:\\Internship\\IIITD MIDAS\\Task 2.2\\checkpoints\\cp-0267.ckpt\n",
      "3/3 - 1s - loss: 0.1088 - accuracy: 0.9651 - val_loss: 0.1742 - val_accuracy: 0.9500\n",
      "Epoch 268/300\n",
      "3/3 - 1s - loss: 0.0946 - accuracy: 0.9690 - val_loss: 0.2204 - val_accuracy: 0.9333\n",
      "Epoch 269/300\n",
      "3/3 - 1s - loss: 0.0655 - accuracy: 0.9767 - val_loss: 0.2158 - val_accuracy: 0.9667\n",
      "Epoch 270/300\n",
      "3/3 - 1s - loss: 0.0805 - accuracy: 0.9724 - val_loss: 0.2861 - val_accuracy: 0.9500\n",
      "Epoch 271/300\n",
      "3/3 - 1s - loss: 0.1438 - accuracy: 0.9646 - val_loss: 0.2203 - val_accuracy: 0.9500\n",
      "Epoch 272/300\n",
      "3/3 - 1s - loss: 0.0329 - accuracy: 0.9961 - val_loss: 0.2342 - val_accuracy: 0.9333\n",
      "Epoch 273/300\n",
      "3/3 - 1s - loss: 0.0611 - accuracy: 0.9843 - val_loss: 0.2266 - val_accuracy: 0.9167\n",
      "Epoch 274/300\n",
      "\n",
      "Epoch 00274: saving model to E:\\Internship\\IIITD MIDAS\\Task 2.2\\checkpoints\\cp-0274.ckpt\n",
      "3/3 - 1s - loss: 0.1675 - accuracy: 0.9370 - val_loss: 0.2153 - val_accuracy: 0.9500\n",
      "Epoch 275/300\n",
      "3/3 - 1s - loss: 0.0727 - accuracy: 0.9803 - val_loss: 0.2601 - val_accuracy: 0.9500\n",
      "Epoch 276/300\n",
      "3/3 - 1s - loss: 0.0873 - accuracy: 0.9806 - val_loss: 0.1989 - val_accuracy: 0.9667\n",
      "Epoch 277/300\n",
      "3/3 - 1s - loss: 0.0410 - accuracy: 0.9884 - val_loss: 0.1974 - val_accuracy: 0.9667\n",
      "Epoch 278/300\n",
      "3/3 - 1s - loss: 0.0778 - accuracy: 0.9685 - val_loss: 0.2548 - val_accuracy: 0.9500\n",
      "Epoch 279/300\n",
      "3/3 - 1s - loss: 0.0493 - accuracy: 0.9767 - val_loss: 0.6053 - val_accuracy: 0.9167\n",
      "Epoch 280/300\n",
      "\n",
      "Epoch 00280: saving model to E:\\Internship\\IIITD MIDAS\\Task 2.2\\checkpoints\\cp-0280.ckpt\n",
      "3/3 - 1s - loss: 0.1149 - accuracy: 0.9606 - val_loss: 0.2861 - val_accuracy: 0.9333\n",
      "Epoch 281/300\n",
      "3/3 - 1s - loss: 0.0796 - accuracy: 0.9724 - val_loss: 0.2722 - val_accuracy: 0.9333\n",
      "Epoch 282/300\n",
      "3/3 - 1s - loss: 0.0724 - accuracy: 0.9767 - val_loss: 0.1254 - val_accuracy: 0.9500\n",
      "Epoch 283/300\n",
      "3/3 - 1s - loss: 0.0526 - accuracy: 0.9803 - val_loss: 0.1832 - val_accuracy: 0.9500\n",
      "Epoch 284/300\n",
      "3/3 - 1s - loss: 0.0449 - accuracy: 0.9921 - val_loss: 0.1995 - val_accuracy: 0.9667\n",
      "Epoch 285/300\n",
      "3/3 - 1s - loss: 0.0821 - accuracy: 0.9724 - val_loss: 0.1736 - val_accuracy: 0.9667\n",
      "Epoch 286/300\n",
      "3/3 - 1s - loss: 0.0713 - accuracy: 0.9843 - val_loss: 0.2933 - val_accuracy: 0.9167\n",
      "Epoch 287/300\n",
      "\n",
      "Epoch 00287: saving model to E:\\Internship\\IIITD MIDAS\\Task 2.2\\checkpoints\\cp-0287.ckpt\n",
      "3/3 - 1s - loss: 0.0740 - accuracy: 0.9729 - val_loss: 0.2323 - val_accuracy: 0.9333\n",
      "Epoch 288/300\n",
      "3/3 - 1s - loss: 0.0786 - accuracy: 0.9806 - val_loss: 0.2588 - val_accuracy: 0.9500\n",
      "Epoch 289/300\n",
      "3/3 - 1s - loss: 0.0874 - accuracy: 0.9764 - val_loss: 0.1976 - val_accuracy: 0.9667\n",
      "Epoch 290/300\n",
      "3/3 - 1s - loss: 0.0350 - accuracy: 0.9921 - val_loss: 0.2457 - val_accuracy: 0.9500\n",
      "Epoch 291/300\n",
      "3/3 - 1s - loss: 0.0991 - accuracy: 0.9496 - val_loss: 0.1849 - val_accuracy: 0.9500\n",
      "Epoch 292/300\n",
      "3/3 - 1s - loss: 0.0682 - accuracy: 0.9843 - val_loss: 0.1752 - val_accuracy: 0.9500\n",
      "Epoch 293/300\n",
      "3/3 - 1s - loss: 0.0338 - accuracy: 0.9882 - val_loss: 0.2446 - val_accuracy: 0.9500\n",
      "Epoch 294/300\n",
      "\n",
      "Epoch 00294: saving model to E:\\Internship\\IIITD MIDAS\\Task 2.2\\checkpoints\\cp-0294.ckpt\n",
      "3/3 - 1s - loss: 0.0353 - accuracy: 0.9843 - val_loss: 0.2216 - val_accuracy: 0.9333\n",
      "Epoch 295/300\n",
      "3/3 - 1s - loss: 0.0891 - accuracy: 0.9724 - val_loss: 0.2181 - val_accuracy: 0.9500\n",
      "Epoch 296/300\n",
      "3/3 - 1s - loss: 0.0307 - accuracy: 0.9921 - val_loss: 0.2114 - val_accuracy: 0.9333\n",
      "Epoch 297/300\n",
      "3/3 - 1s - loss: 0.0639 - accuracy: 0.9764 - val_loss: 0.2620 - val_accuracy: 0.9333\n",
      "Epoch 298/300\n",
      "3/3 - 1s - loss: 0.1347 - accuracy: 0.9488 - val_loss: 0.1802 - val_accuracy: 0.9333\n",
      "Epoch 299/300\n",
      "3/3 - 1s - loss: 0.0691 - accuracy: 0.9724 - val_loss: 0.2152 - val_accuracy: 0.9500\n",
      "Epoch 300/300\n",
      "\n",
      "Epoch 00300: saving model to E:\\Internship\\IIITD MIDAS\\Task 2.2\\checkpoints\\cp-0300.ckpt\n",
      "3/3 - 1s - loss: 0.0487 - accuracy: 0.9884 - val_loss: 0.4376 - val_accuracy: 0.9167\n"
     ]
    }
   ],
   "source": [
    "\n",
    "history = model_ckpt.fit_generator(datagen.flow(x_train,y_train, batch_size=batch_size),\n",
    "                              epochs = epochs,\n",
    "                              validation_data = (x_test,y_test),\n",
    "                              verbose = 2,\n",
    "                              steps_per_epoch=x_train.shape[0] // batch_size\n",
    "                              , callbacks=[cp_callback])"
   ]
  },
  {
   "cell_type": "markdown",
   "metadata": {},
   "source": [
    "### Calculating the final accuracy and loss"
   ]
  },
  {
   "cell_type": "code",
   "execution_count": 125,
   "metadata": {},
   "outputs": [
    {
     "name": "stdout",
     "output_type": "stream",
     "text": [
      "2/2 - 0s - loss: 0.4376 - accuracy: 0.9167\n"
     ]
    }
   ],
   "source": [
    "loss,acc = model_ckpt.evaluate(x_test,  y_test, verbose=2)"
   ]
  },
  {
   "cell_type": "markdown",
   "metadata": {},
   "source": [
    "### Evaluation\n"
   ]
  },
  {
   "cell_type": "code",
   "execution_count": 126,
   "metadata": {},
   "outputs": [],
   "source": [
    "model = model_ckpt"
   ]
  },
  {
   "cell_type": "markdown",
   "metadata": {},
   "source": [
    "### Plotting the loss and accuracy curves for training and validation"
   ]
  },
  {
   "cell_type": "code",
   "execution_count": 127,
   "metadata": {},
   "outputs": [
    {
     "data": {
      "image/png": "[encoded data removed]",
      "text/plain": [
       "<Figure size 432x288 with 2 Axes>"
      ]
     },
     "metadata": {
      "needs_background": "light"
     },
     "output_type": "display_data"
    }
   ],
   "source": [
    "# Plot the loss and accuracy curves for training and validation \n",
    "fig, ax = plt.subplots(2,1)\n",
    "ax[0].plot(history.history['loss'], color='b', label=\"Training loss\")\n",
    "ax[0].plot(history.history['val_loss'], color='r', label=\"validation loss\",axes =ax[0])\n",
    "legend = ax[0].legend(loc='best', shadow=True)\n",
    "\n",
    "ax[1].plot(history.history['accuracy'], color='b', label=\"Training accuracy\")\n",
    "ax[1].plot(history.history['val_accuracy'], color='r',label=\"Validation accuracy\")\n",
    "legend = ax[1].legend(loc='best', shadow=True)"
   ]
  },
  {
   "cell_type": "code",
   "execution_count": 87,
   "metadata": {},
   "outputs": [],
   "source": [
    "model = model_ckpt"
   ]
  },
  {
   "cell_type": "markdown",
   "metadata": {},
   "source": [
    "### Plotting the Confusion matrix"
   ]
  },
  {
   "cell_type": "code",
   "execution_count": 88,
   "metadata": {},
   "outputs": [
    {
     "data": {
      "image/png": "[encoded data removed]",
      "text/plain": [
       "<Figure size 432x288 with 2 Axes>"
      ]
     },
     "metadata": {
      "needs_background": "light"
     },
     "output_type": "display_data"
    }
   ],
   "source": [
    "# Look at confusion matrix \n",
    "\n",
    "def plot_confusion_matrix(cm, classes,\n",
    "                          normalize=False,\n",
    "                          title='Confusion matrix',\n",
    "                          cmap=plt.cm.Blues):\n",
    "    \"\"\"\n",
    "    This function prints and plots the confusion matrix.\n",
    "    Normalization can be applied by setting `normalize=True`.\n",
    "    \"\"\"\n",
    "    plt.imshow(cm, interpolation='nearest', cmap=cmap)\n",
    "    plt.title(title)\n",
    "    plt.colorbar()\n",
    "    tick_marks = np.arange(len(classes))\n",
    "    plt.xticks(tick_marks, classes, rotation=45)\n",
    "    plt.yticks(tick_marks, classes)\n",
    "\n",
    "    if normalize:\n",
    "        cm = cm.astype('float') / cm.sum(axis=1)[:, np.newaxis]\n",
    "\n",
    "    thresh = cm.max() / 2.\n",
    "    for i, j in itertools.product(range(cm.shape[0]), range(cm.shape[1])):\n",
    "        plt.text(j, i, cm[i, j],\n",
    "                 horizontalalignment=\"center\",\n",
    "                 color=\"white\" if cm[i, j] > thresh else \"black\")\n",
    "\n",
    "    plt.tight_layout()\n",
    "    plt.ylabel('True label')\n",
    "    plt.xlabel('Predicted label')\n",
    "\n",
    "# Predict the values from the validation dataset\n",
    "Y_pred = model.predict(x_test)\n",
    "# Convert predictions classes to one hot vectors \n",
    "Y_pred_classes = np.argmax(Y_pred,axis = 1) \n",
    "# Convert validation observations to one hot vectors\n",
    "Y_true = np.argmax(y_test,axis = 1) \n",
    "# compute the confusion matrix\n",
    "confusion_mtx = confusion_matrix(Y_true, Y_pred_classes) \n",
    "# plot the confusion matrix\n",
    "plot_confusion_matrix(confusion_mtx, classes = range(10)) "
   ]
  },
  {
   "cell_type": "markdown",
   "metadata": {},
   "source": [
    "## loading pretrained\n",
    "#### here we are loading the weights of the model which we have just trained so that we can train the MNIST data set on those predefined weights\n"
   ]
  },
  {
   "cell_type": "code",
   "execution_count": 44,
   "metadata": {},
   "outputs": [],
   "source": [
    "checkpoint_dir = os.path.dirname(checkpoint_path)\n",
    "latest = tf.train.latest_checkpoint(checkpoint_dir)"
   ]
  },
  {
   "cell_type": "code",
   "execution_count": 45,
   "metadata": {},
   "outputs": [
    {
     "data": {
      "text/plain": [
       "<tensorflow.python.training.tracking.util.CheckpointLoadStatus at 0x243e92d2340>"
      ]
     },
     "execution_count": 45,
     "metadata": {},
     "output_type": "execute_result"
    }
   ],
   "source": [
    "model_ckpt_MNIST = create_model()\n",
    "model_ckpt_MNIST.load_weights(latest)"
   ]
  },
  {
   "cell_type": "code",
   "execution_count": 46,
   "metadata": {},
   "outputs": [
    {
     "name": "stdout",
     "output_type": "stream",
     "text": [
      "2/2 - 0s - loss: 0.3474 - accuracy: 0.9500\n"
     ]
    }
   ],
   "source": [
    "loss,acc = model_ckpt_MNIST.evaluate(x_test,  y_test, verbose=2)"
   ]
  },
  {
   "cell_type": "code",
   "execution_count": 47,
   "metadata": {},
   "outputs": [
    {
     "name": "stdout",
     "output_type": "stream",
     "text": [
      "Restored model, accuracy: 95.00%\n"
     ]
    }
   ],
   "source": [
    "print(\"Restored model, accuracy: {:5.2f}%\".format(100*acc))"
   ]
  },
  {
   "cell_type": "markdown",
   "metadata": {},
   "source": [
    "## Importing dataset\n",
    "Here we are importing MNIST official dataset, so that e can train our model on it\n",
    "\n",
    "We are also printing the sample train images to check if we have imported the correct dataset\n",
    "\n",
    "I have used this to know how to import - https://www.askpython.com/python/examples/load-and-plot-mnist-dataset-in-python"
   ]
  },
  {
   "cell_type": "code",
   "execution_count": 49,
   "metadata": {},
   "outputs": [],
   "source": [
    "from keras.datasets import mnist"
   ]
  },
  {
   "cell_type": "code",
   "execution_count": 50,
   "metadata": {},
   "outputs": [
    {
     "name": "stdout",
     "output_type": "stream",
     "text": [
      "X_train: (60000, 28, 28)\n",
      "Y_train: (60000,)\n",
      "X_test:  (10000, 28, 28)\n",
      "Y_test:  (10000,)\n"
     ]
    },
    {
     "data": {
      "image/png": "[encoded data removed]",
      "text/plain": [
       "<Figure size 432x288 with 1 Axes>"
      ]
     },
     "metadata": {
      "needs_background": "light"
     },
     "output_type": "display_data"
    },
    {
     "data": {
      "image/png": "[encoded data removed]",
      "text/plain": [
       "<Figure size 432x288 with 1 Axes>"
      ]
     },
     "metadata": {
      "needs_background": "light"
     },
     "output_type": "display_data"
    },
    {
     "data": {
      "image/png": "[encoded data removed]",
      "text/plain": [
       "<Figure size 432x288 with 1 Axes>"
      ]
     },
     "metadata": {
      "needs_background": "light"
     },
     "output_type": "display_data"
    },
    {
     "data": {
      "image/png": "[encoded data removed]",
      "text/plain": [
       "<Figure size 432x288 with 1 Axes>"
      ]
     },
     "metadata": {
      "needs_background": "light"
     },
     "output_type": "display_data"
    },
    {
     "data": {
      "image/png": "[encoded data removed]",
      "text/plain": [
       "<Figure size 432x288 with 1 Axes>"
      ]
     },
     "metadata": {
      "needs_background": "light"
     },
     "output_type": "display_data"
    },
    {
     "data": {
      "image/png": "[encoded data removed]",
      "text/plain": [
       "<Figure size 432x288 with 1 Axes>"
      ]
     },
     "metadata": {
      "needs_background": "light"
     },
     "output_type": "display_data"
    },
    {
     "data": {
      "image/png": "[encoded data removed]",
      "text/plain": [
       "<Figure size 432x288 with 1 Axes>"
      ]
     },
     "metadata": {
      "needs_background": "light"
     },
     "output_type": "display_data"
    },
    {
     "data": {
      "image/png": "[encoded data removed]",
      "text/plain": [
       "<Figure size 432x288 with 1 Axes>"
      ]
     },
     "metadata": {
      "needs_background": "light"
     },
     "output_type": "display_data"
    },
    {
     "data": {
      "image/png": "[encoded data removed]",
      "text/plain": [
       "<Figure size 432x288 with 1 Axes>"
      ]
     },
     "metadata": {
      "needs_background": "light"
     },
     "output_type": "display_data"
    }
   ],
   "source": [
    "#loading\n",
    "(x_train, y_train), (x_test, y_test) = mnist.load_data()\n",
    " \n",
    "#shape of dataset\n",
    "print('X_train: ' + str(x_train.shape))\n",
    "print('Y_train: ' + str(y_train.shape))\n",
    "print('X_test:  '  + str(x_test.shape))\n",
    "print('Y_test:  '  + str(y_test.shape))\n",
    " \n",
    "#plotting\n",
    "from matplotlib import pyplot\n",
    "for i in range(9):  \n",
    "    pyplot.subplot(330 + 1 + i)\n",
    "    pyplot.imshow(x_train[i], cmap=pyplot.get_cmap('gray'))\n",
    "    pyplot.show()"
   ]
  },
  {
   "cell_type": "markdown",
   "metadata": {},
   "source": [
    "### Reshaping the array Xtrain and ytrain, so that it has the same dimension as the one required by our model"
   ]
  },
  {
   "cell_type": "code",
   "execution_count": 51,
   "metadata": {},
   "outputs": [],
   "source": [
    "x_train = x_train.reshape(-1,28,28,1)\n",
    "x_test = x_test.reshape(-1,28,28,1)"
   ]
  },
  {
   "cell_type": "markdown",
   "metadata": {},
   "source": [
    "### Printing the shape of Xtrain and Ytrain, to verify if its same as what we need in our model"
   ]
  },
  {
   "cell_type": "code",
   "execution_count": 52,
   "metadata": {},
   "outputs": [
    {
     "name": "stdout",
     "output_type": "stream",
     "text": [
      "X_train: (60000, 28, 28, 1)\n",
      "Y_train: (60000,)\n",
      "X_test:  (10000, 28, 28, 1)\n",
      "Y_test:  (10000,)\n"
     ]
    }
   ],
   "source": [
    "#shape of dataset\n",
    "print('X_train: ' + str(x_train.shape))\n",
    "print('Y_train: ' + str(y_train.shape))\n",
    "print('X_test:  '  + str(x_test.shape))\n",
    "print('Y_test:  '  + str(y_test.shape))"
   ]
  },
  {
   "cell_type": "markdown",
   "metadata": {},
   "source": [
    "## Label encoding\n",
    "We need to give the y test and train in one hot encoded form\n",
    "\n",
    "used this article for Label encoding - https://www.geeksforgeeks.org/ml-label-encoding-of-datasets-in-python/\n",
    "\n",
    "it basically converts all the labels from 0 to the end. so that it becomes easier in one hot encoding."
   ]
  },
  {
   "cell_type": "code",
   "execution_count": 53,
   "metadata": {},
   "outputs": [
    {
     "data": {
      "text/plain": [
       "array([5, 0, 4, ..., 5, 6, 8], dtype=int64)"
      ]
     },
     "execution_count": 53,
     "metadata": {},
     "output_type": "execute_result"
    }
   ],
   "source": [
    "# Import label encoder\n",
    "from sklearn import preprocessing\n",
    "  \n",
    "# label_encoder object knows how to understand word labels.\n",
    "label_encoder = preprocessing.LabelEncoder()\n",
    "  \n",
    "# Encode labels in column 'species'.\n",
    "y_train= label_encoder.fit_transform(y_train)\n",
    "y_train\n",
    "# y_train.unique()"
   ]
  },
  {
   "cell_type": "markdown",
   "metadata": {},
   "source": [
    "#### Used the to_categorical function to convert the data to one hot encoded form"
   ]
  },
  {
   "cell_type": "code",
   "execution_count": 54,
   "metadata": {
    "scrolled": true
   },
   "outputs": [
    {
     "name": "stdout",
     "output_type": "stream",
     "text": [
      "[5 0 4 ... 5 6 8]\n",
      "[[0. 0. 0. ... 0. 0. 0.]\n",
      " [1. 0. 0. ... 0. 0. 0.]\n",
      " [0. 0. 0. ... 0. 0. 0.]\n",
      " ...\n",
      " [0. 0. 0. ... 0. 0. 0.]\n",
      " [0. 0. 0. ... 0. 0. 0.]\n",
      " [0. 0. 0. ... 0. 1. 0.]]\n"
     ]
    }
   ],
   "source": [
    "from numpy import array\n",
    "from numpy import argmax\n",
    "from keras.utils import to_categorical\n",
    "# define example\n",
    "data = array(y_train)\n",
    "print(data)\n",
    "# one hot encode\n",
    "encoded = to_categorical(data)\n",
    "print(encoded)\n",
    "y_train = encoded"
   ]
  },
  {
   "cell_type": "markdown",
   "metadata": {},
   "source": [
    "#### Same for Y test"
   ]
  },
  {
   "cell_type": "code",
   "execution_count": 55,
   "metadata": {},
   "outputs": [
    {
     "data": {
      "text/plain": [
       "array([7, 2, 1, ..., 4, 5, 6], dtype=int64)"
      ]
     },
     "execution_count": 55,
     "metadata": {},
     "output_type": "execute_result"
    }
   ],
   "source": [
    "label_encoder = preprocessing.LabelEncoder()\n",
    "y_test= label_encoder.fit_transform(y_test)\n",
    "y_test"
   ]
  },
  {
   "cell_type": "code",
   "execution_count": 56,
   "metadata": {},
   "outputs": [
    {
     "name": "stdout",
     "output_type": "stream",
     "text": [
      "[7 2 1 ... 4 5 6]\n",
      "[[0. 0. 0. ... 1. 0. 0.]\n",
      " [0. 0. 1. ... 0. 0. 0.]\n",
      " [0. 1. 0. ... 0. 0. 0.]\n",
      " ...\n",
      " [0. 0. 0. ... 0. 0. 0.]\n",
      " [0. 0. 0. ... 0. 0. 0.]\n",
      " [0. 0. 0. ... 0. 0. 0.]]\n"
     ]
    }
   ],
   "source": [
    "# define example\n",
    "data = array(y_test)\n",
    "print(data)\n",
    "# one hot encode\n",
    "encoded = to_categorical(data)\n",
    "print(encoded)\n",
    "y_test = encoded"
   ]
  },
  {
   "cell_type": "code",
   "execution_count": 57,
   "metadata": {},
   "outputs": [
    {
     "name": "stdout",
     "output_type": "stream",
     "text": [
      "(60000, 28, 28, 1)\n",
      "(60000, 10)\n",
      "(10000, 28, 28, 1)\n",
      "(10000, 10)\n"
     ]
    }
   ],
   "source": [
    "print(x_train.shape)\n",
    "print(y_train.shape)\n",
    "print(x_test.shape)\n",
    "print(y_test.shape)\n"
   ]
  },
  {
   "cell_type": "markdown",
   "metadata": {},
   "source": [
    "## When trained on given dataset and tested on MNIST test data -\n",
    "Now we have changed our xtest and ytest to the standard MNIST dataset\n",
    "\n",
    "Here we are testing our already trained weights from the small dataset on the big MNIST test data"
   ]
  },
  {
   "cell_type": "code",
   "execution_count": 60,
   "metadata": {},
   "outputs": [
    {
     "name": "stdout",
     "output_type": "stream",
     "text": [
      "313/313 - 12s - loss: 2547.1548 - accuracy: 0.1588\n",
      "Restored model, accuracy: 15.88%\n"
     ]
    }
   ],
   "source": [
    "loss,acc = model_ckpt_MNIST.evaluate(x_test,  y_test, verbose=2)\n",
    "print(\"Restored model, accuracy: {:5.2f}%\".format(100*acc))"
   ]
  },
  {
   "cell_type": "markdown",
   "metadata": {},
   "source": [
    "As we can see the accuracy is just 15% as our dataset was very small"
   ]
  },
  {
   "cell_type": "markdown",
   "metadata": {},
   "source": [
    "## Train our Pre trained weights on MNIST Dataset"
   ]
  },
  {
   "cell_type": "code",
   "execution_count": 61,
   "metadata": {},
   "outputs": [],
   "source": [
    "checkpoint_path = \"E:\\Internship\\IIITD MIDAS\\Task 2.2\\checkpoints\\withMNIST\\cp-{epoch:04d}.ckpt\""
   ]
  },
  {
   "cell_type": "code",
   "execution_count": 62,
   "metadata": {},
   "outputs": [],
   "source": [
    "cp_callback = tf.keras.callbacks.ModelCheckpoint(\n",
    "    filepath=checkpoint_path,\n",
    "    save_weights_only=True,\n",
    "    save_freq=200,\n",
    "    verbose=1)"
   ]
  },
  {
   "cell_type": "code",
   "execution_count": 63,
   "metadata": {},
   "outputs": [
    {
     "name": "stdout",
     "output_type": "stream",
     "text": [
      "Epoch 1/10\n",
      "\n",
      "Epoch 00001: saving model to E:\\Internship\\IIITD MIDAS\\Task 2.2\\checkpoints\\withMNIST\\cp-0001.ckpt\n",
      "\n",
      "Epoch 00001: saving model to E:\\Internship\\IIITD MIDAS\\Task 2.2\\checkpoints\\withMNIST\\cp-0001.ckpt\n",
      "\n",
      "Epoch 00001: saving model to E:\\Internship\\IIITD MIDAS\\Task 2.2\\checkpoints\\withMNIST\\cp-0001.ckpt\n",
      "697/697 - 455s - loss: 10.6294 - accuracy: 0.7872 - val_loss: 0.1255 - val_accuracy: 0.9649\n",
      "Epoch 2/10\n",
      "\n",
      "Epoch 00002: saving model to E:\\Internship\\IIITD MIDAS\\Task 2.2\\checkpoints\\withMNIST\\cp-0002.ckpt\n",
      "\n",
      "Epoch 00002: saving model to E:\\Internship\\IIITD MIDAS\\Task 2.2\\checkpoints\\withMNIST\\cp-0002.ckpt\n",
      "\n",
      "Epoch 00002: saving model to E:\\Internship\\IIITD MIDAS\\Task 2.2\\checkpoints\\withMNIST\\cp-0002.ckpt\n",
      "697/697 - 476s - loss: 0.2070 - accuracy: 0.9450 - val_loss: 0.0457 - val_accuracy: 0.9854\n",
      "Epoch 3/10\n",
      "\n",
      "Epoch 00003: saving model to E:\\Internship\\IIITD MIDAS\\Task 2.2\\checkpoints\\withMNIST\\cp-0003.ckpt\n",
      "\n",
      "Epoch 00003: saving model to E:\\Internship\\IIITD MIDAS\\Task 2.2\\checkpoints\\withMNIST\\cp-0003.ckpt\n",
      "\n",
      "Epoch 00003: saving model to E:\\Internship\\IIITD MIDAS\\Task 2.2\\checkpoints\\withMNIST\\cp-0003.ckpt\n",
      "\n",
      "Epoch 00003: saving model to E:\\Internship\\IIITD MIDAS\\Task 2.2\\checkpoints\\withMNIST\\cp-0003.ckpt\n",
      "697/697 - 661s - loss: 0.1690 - accuracy: 0.9558 - val_loss: 0.0427 - val_accuracy: 0.9876\n",
      "Epoch 4/10\n",
      "\n",
      "Epoch 00004: saving model to E:\\Internship\\IIITD MIDAS\\Task 2.2\\checkpoints\\withMNIST\\cp-0004.ckpt\n",
      "\n",
      "Epoch 00004: saving model to E:\\Internship\\IIITD MIDAS\\Task 2.2\\checkpoints\\withMNIST\\cp-0004.ckpt\n",
      "\n",
      "Epoch 00004: saving model to E:\\Internship\\IIITD MIDAS\\Task 2.2\\checkpoints\\withMNIST\\cp-0004.ckpt\n",
      "697/697 - 665s - loss: 0.1640 - accuracy: 0.9574 - val_loss: 0.0404 - val_accuracy: 0.9879\n",
      "Epoch 5/10\n",
      "\n",
      "Epoch 00005: saving model to E:\\Internship\\IIITD MIDAS\\Task 2.2\\checkpoints\\withMNIST\\cp-0005.ckpt\n",
      "\n",
      "Epoch 00005: saving model to E:\\Internship\\IIITD MIDAS\\Task 2.2\\checkpoints\\withMNIST\\cp-0005.ckpt\n",
      "\n",
      "Epoch 00005: saving model to E:\\Internship\\IIITD MIDAS\\Task 2.2\\checkpoints\\withMNIST\\cp-0005.ckpt\n",
      "\n",
      "Epoch 00005: saving model to E:\\Internship\\IIITD MIDAS\\Task 2.2\\checkpoints\\withMNIST\\cp-0005.ckpt\n",
      "697/697 - 624s - loss: 0.1628 - accuracy: 0.9590 - val_loss: 0.0474 - val_accuracy: 0.9862\n",
      "Epoch 6/10\n",
      "\n",
      "Epoch 00006: saving model to E:\\Internship\\IIITD MIDAS\\Task 2.2\\checkpoints\\withMNIST\\cp-0006.ckpt\n",
      "\n",
      "Epoch 00006: saving model to E:\\Internship\\IIITD MIDAS\\Task 2.2\\checkpoints\\withMNIST\\cp-0006.ckpt\n",
      "\n",
      "Epoch 00006: saving model to E:\\Internship\\IIITD MIDAS\\Task 2.2\\checkpoints\\withMNIST\\cp-0006.ckpt\n",
      "697/697 - 607s - loss: 0.1715 - accuracy: 0.9584 - val_loss: 0.0601 - val_accuracy: 0.9820\n",
      "Epoch 7/10\n",
      "\n",
      "Epoch 00007: saving model to E:\\Internship\\IIITD MIDAS\\Task 2.2\\checkpoints\\withMNIST\\cp-0007.ckpt\n",
      "\n",
      "Epoch 00007: saving model to E:\\Internship\\IIITD MIDAS\\Task 2.2\\checkpoints\\withMNIST\\cp-0007.ckpt\n",
      "\n",
      "Epoch 00007: saving model to E:\\Internship\\IIITD MIDAS\\Task 2.2\\checkpoints\\withMNIST\\cp-0007.ckpt\n",
      "\n",
      "Epoch 00007: saving model to E:\\Internship\\IIITD MIDAS\\Task 2.2\\checkpoints\\withMNIST\\cp-0007.ckpt\n",
      "697/697 - 582s - loss: 0.1685 - accuracy: 0.9599 - val_loss: 0.0603 - val_accuracy: 0.9836\n",
      "Epoch 8/10\n",
      "\n",
      "Epoch 00008: saving model to E:\\Internship\\IIITD MIDAS\\Task 2.2\\checkpoints\\withMNIST\\cp-0008.ckpt\n",
      "\n",
      "Epoch 00008: saving model to E:\\Internship\\IIITD MIDAS\\Task 2.2\\checkpoints\\withMNIST\\cp-0008.ckpt\n",
      "\n",
      "Epoch 00008: saving model to E:\\Internship\\IIITD MIDAS\\Task 2.2\\checkpoints\\withMNIST\\cp-0008.ckpt\n",
      "697/697 - 402s - loss: 0.1797 - accuracy: 0.9580 - val_loss: 0.0356 - val_accuracy: 0.9898\n",
      "Epoch 9/10\n",
      "\n",
      "Epoch 00009: saving model to E:\\Internship\\IIITD MIDAS\\Task 2.2\\checkpoints\\withMNIST\\cp-0009.ckpt\n",
      "\n",
      "Epoch 00009: saving model to E:\\Internship\\IIITD MIDAS\\Task 2.2\\checkpoints\\withMNIST\\cp-0009.ckpt\n",
      "\n",
      "Epoch 00009: saving model to E:\\Internship\\IIITD MIDAS\\Task 2.2\\checkpoints\\withMNIST\\cp-0009.ckpt\n",
      "\n",
      "Epoch 00009: saving model to E:\\Internship\\IIITD MIDAS\\Task 2.2\\checkpoints\\withMNIST\\cp-0009.ckpt\n",
      "697/697 - 401s - loss: 0.1989 - accuracy: 0.9556 - val_loss: 0.0512 - val_accuracy: 0.9861\n",
      "Epoch 10/10\n",
      "\n",
      "Epoch 00010: saving model to E:\\Internship\\IIITD MIDAS\\Task 2.2\\checkpoints\\withMNIST\\cp-0010.ckpt\n",
      "\n",
      "Epoch 00010: saving model to E:\\Internship\\IIITD MIDAS\\Task 2.2\\checkpoints\\withMNIST\\cp-0010.ckpt\n",
      "\n",
      "Epoch 00010: saving model to E:\\Internship\\IIITD MIDAS\\Task 2.2\\checkpoints\\withMNIST\\cp-0010.ckpt\n",
      "697/697 - 303s - loss: 0.1919 - accuracy: 0.9551 - val_loss: 0.0717 - val_accuracy: 0.9836\n"
     ]
    }
   ],
   "source": [
    "# # model_ckpt2.fit(train_images, \n",
    "#           train_labels,  \n",
    "#           batch_size=64,\n",
    "#           epochs=10,\n",
    "#           validation_data=(test_images,test_labels),\n",
    "#           callbacks=[cp_callback])\n",
    "\n",
    "\n",
    "history = model_ckpt_MNIST.fit_generator(datagen.flow(x_train,y_train, batch_size=batch_size),\n",
    "                              epochs = 10,\n",
    "                              validation_data = (x_test,y_test),\n",
    "                              verbose = 2,\n",
    "                              steps_per_epoch=x_train.shape[0] // batch_size\n",
    "                              , callbacks=[cp_callback])"
   ]
  },
  {
   "cell_type": "code",
   "execution_count": null,
   "metadata": {},
   "outputs": [],
   "source": [
    "loss,acc = model_ckpt_MNIST.evaluate(x_test,  y_test, verbose=2)\n",
    "print(\"Restored model, accuracy: {:5.2f}%\".format(100*acc))"
   ]
  },
  {
   "cell_type": "markdown",
   "metadata": {},
   "source": [
    "2/2 - 0s - loss: 0.0717 - accuracy: 0.9836\n",
    "Restored model, accuracy: 98.36%"
   ]
  },
  {
   "cell_type": "markdown",
   "metadata": {},
   "source": [
    "### Evaluation\n"
   ]
  },
  {
   "cell_type": "markdown",
   "metadata": {},
   "source": [
    "### Plotting the loss and accuracy curves for training and validation"
   ]
  },
  {
   "cell_type": "code",
   "execution_count": 65,
   "metadata": {
    "scrolled": true
   },
   "outputs": [
    {
     "data": {
      "image/png": "[encoded data removed]",
      "text/plain": [
       "<Figure size 432x288 with 2 Axes>"
      ]
     },
     "metadata": {
      "needs_background": "light"
     },
     "output_type": "display_data"
    }
   ],
   "source": [
    "# Plot the loss and accuracy curves for training and validation \n",
    "fig, ax = plt.subplots(2,1)\n",
    "ax[0].plot(history.history['loss'], color='b', label=\"Training loss\")\n",
    "ax[0].plot(history.history['val_loss'], color='r', label=\"validation loss\",axes =ax[0])\n",
    "legend = ax[0].legend(loc='best', shadow=True)\n",
    "\n",
    "ax[1].plot(history.history['accuracy'], color='b', label=\"Training accuracy\")\n",
    "ax[1].plot(history.history['val_accuracy'], color='r',label=\"Validation accuracy\")\n",
    "legend = ax[1].legend(loc='best', shadow=True)"
   ]
  },
  {
   "cell_type": "code",
   "execution_count": 69,
   "metadata": {},
   "outputs": [],
   "source": [
    "model = model_ckpt_MNIST"
   ]
  },
  {
   "cell_type": "markdown",
   "metadata": {},
   "source": [
    "### Plotting the Confusion matrix"
   ]
  },
  {
   "cell_type": "code",
   "execution_count": 70,
   "metadata": {},
   "outputs": [
    {
     "data": {
      "image/png": "[encoded data removed]",
      "text/plain": [
       "<Figure size 432x288 with 2 Axes>"
      ]
     },
     "metadata": {
      "needs_background": "light"
     },
     "output_type": "display_data"
    }
   ],
   "source": [
    "# Look at confusion matrix \n",
    "\n",
    "def plot_confusion_matrix(cm, classes,\n",
    "                          normalize=False,\n",
    "                          title='Confusion matrix',\n",
    "                          cmap=plt.cm.Blues):\n",
    "    \"\"\"\n",
    "    This function prints and plots the confusion matrix.\n",
    "    Normalization can be applied by setting `normalize=True`.\n",
    "    \"\"\"\n",
    "    plt.imshow(cm, interpolation='nearest', cmap=cmap)\n",
    "    plt.title(title)\n",
    "    plt.colorbar()\n",
    "    tick_marks = np.arange(len(classes))\n",
    "    plt.xticks(tick_marks, classes, rotation=45)\n",
    "    plt.yticks(tick_marks, classes)\n",
    "\n",
    "    if normalize:\n",
    "        cm = cm.astype('float') / cm.sum(axis=1)[:, np.newaxis]\n",
    "\n",
    "    thresh = cm.max() / 2.\n",
    "    for i, j in itertools.product(range(cm.shape[0]), range(cm.shape[1])):\n",
    "        plt.text(j, i, cm[i, j],\n",
    "                 horizontalalignment=\"center\",\n",
    "                 color=\"white\" if cm[i, j] > thresh else \"black\")\n",
    "\n",
    "    plt.tight_layout()\n",
    "    plt.ylabel('True label')\n",
    "    plt.xlabel('Predicted label')\n",
    "\n",
    "# Predict the values from the validation dataset\n",
    "Y_pred = model.predict(x_test)\n",
    "# Convert predictions classes to one hot vectors \n",
    "Y_pred_classes = np.argmax(Y_pred,axis = 1) \n",
    "# Convert validation observations to one hot vectors\n",
    "Y_true = np.argmax(y_test,axis = 1) \n",
    "# compute the confusion matrix\n",
    "confusion_mtx = confusion_matrix(Y_true, Y_pred_classes) \n",
    "# plot the confusion matrix\n",
    "plot_confusion_matrix(confusion_mtx, classes = range(10)) "
   ]
  },
  {
   "cell_type": "code",
   "execution_count": null,
   "metadata": {},
   "outputs": [],
   "source": []
  }
 ],
 "metadata": {
  "accelerator": "GPU",
  "colab": {
   "collapsed_sections": [],
   "name": "Untitled1.ipynb",
   "provenance": [],
   "toc_visible": true
  },
  "kernelspec": {
   "display_name": "Python 3",
   "language": "python",
   "name": "python3"
  },
  "language_info": {
   "codemirror_mode": {
    "name": "ipython",
    "version": 3
   },
   "file_extension": ".py",
   "mimetype": "text/x-python",
   "name": "python",
   "nbconvert_exporter": "python",
   "pygments_lexer": "ipython3",
   "version": "3.8.8"
  }
 },
 "nbformat": 4,
 "nbformat_minor": 1
}
